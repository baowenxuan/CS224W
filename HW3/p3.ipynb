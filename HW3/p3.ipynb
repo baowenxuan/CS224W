{
 "cells": [
  {
   "cell_type": "markdown",
   "metadata": {},
   "source": [
    "# 3 Decision-based Cascades: A Local Election"
   ]
  },
  {
   "cell_type": "code",
   "execution_count": 1,
   "metadata": {},
   "outputs": [],
   "source": [
    "import snap\n",
    "import matplotlib.pyplot as plt\n",
    "\n",
    "# Setup\n",
    "num_voters = 10000\n",
    "decision_period = 10"
   ]
  },
  {
   "cell_type": "markdown",
   "metadata": {},
   "source": [
    "## 3.1 Basic Setup and Forecasting"
   ]
  },
  {
   "cell_type": "code",
   "execution_count": 2,
   "metadata": {},
   "outputs": [],
   "source": [
    "def read_graphs(path1, path2):\n",
    "    \"\"\"\n",
    "    :param - path1: path to edge list file for graph 1\n",
    "    :param - path2: path to edge list file for graph 2\n",
    "\n",
    "    return type: snap.PUNGraph, snap.PUNGraph\n",
    "    return: Graph 1, Graph 2\n",
    "    \"\"\"\n",
    "    Graph1 = snap.LoadEdgeList(snap.PUNGraph, \"graph1.txt\", 0, 1)\n",
    "    Graph2 = snap.LoadEdgeList(snap.PUNGraph, \"graph2.txt\", 0, 1)\n",
    "    return Graph1, Graph2"
   ]
  },
  {
   "cell_type": "code",
   "execution_count": 3,
   "metadata": {},
   "outputs": [],
   "source": [
    "def initial_voting_state(Graph):\n",
    "    \"\"\"\n",
    "    Function to initialize the voting preferences.\n",
    "\n",
    "    :param - Graph: snap.PUNGraph object representing an undirected graph\n",
    "\n",
    "    return type: Python dictionary\n",
    "    return: Dictionary mapping node IDs to initial voter preference\n",
    "            ('A', 'B', or 'U')\n",
    "\n",
    "    Note: 'U' denotes undecided voting preference.\n",
    "\n",
    "    Example: Some random key-value pairs of the dict are\n",
    "             {0 : 'A', 24 : 'B', 118 : 'U'}.\n",
    "    \"\"\"\n",
    "    voter_prefs = {}\n",
    "    for node in Graph.Nodes():\n",
    "        node_id = node.GetId()\n",
    "        if (node_id % 10) in (0, 1, 2, 3):\n",
    "            voter_prefs[node_id] = 'A'\n",
    "        elif (node_id % 10) in (4, 5, 6, 7):\n",
    "            voter_prefs[node_id] = 'B'\n",
    "        else:\n",
    "            voter_prefs[node_id] = 'U'\n",
    "    assert(len(voter_prefs) == num_voters)\n",
    "    # print('initial:', voter_prefs)\n",
    "    return voter_prefs"
   ]
  },
  {
   "cell_type": "code",
   "execution_count": 4,
   "metadata": {},
   "outputs": [],
   "source": [
    "def iterate_voting(Graph, init_conf):\n",
    "    \"\"\"\n",
    "    Function to perform the 10-day decision process.\n",
    "\n",
    "    :param - Graph: snap.PUNGraph object representing an undirected graph\n",
    "    :param - init_conf: Dictionary object containing the initial voting\n",
    "                        preferences (before any iteration of the decision\n",
    "                        process)\n",
    "\n",
    "    return type: Python dictionary\n",
    "    return: Dictionary containing the voting preferences (mapping node IDs to\n",
    "            'A','B' or 'U') after the decision process.\n",
    "\n",
    "    Hint: Use global variables num_voters and decision_period to iterate.\n",
    "    \"\"\"\n",
    "    curr_conf = init_conf.copy()\n",
    "    curr_alternating_vote = 'A'\n",
    "    for epoch in range(decision_period):\n",
    "        # voters are processed in increasing order of node ID\n",
    "        for node_id in range(num_voters):\n",
    "            # only the undicided voter go through the decision process\n",
    "            if init_conf[node_id] != 'U':\n",
    "                continue\n",
    "            node = Graph.GetNI(node_id)\n",
    "            counter = {'A': 0, 'B': 0, 'U': 0}\n",
    "            \n",
    "            for i in range(node.GetDeg()):\n",
    "                counter[curr_conf[node.GetNbrNId(i)]] += 1\n",
    "            if counter['A'] > counter['B']:\n",
    "                curr_conf[node_id] = 'A'\n",
    "            elif counter['B'] > counter['A']:\n",
    "                curr_conf[node_id] = 'B'\n",
    "            else:\n",
    "                curr_conf[node_id] = curr_alternating_vote\n",
    "                curr_alternating_vote = 'A' if curr_alternating_vote == 'B' else 'B'\n",
    "    # print(curr_conf)\n",
    "    return curr_conf"
   ]
  },
  {
   "cell_type": "code",
   "execution_count": 5,
   "metadata": {},
   "outputs": [],
   "source": [
    "def sim_election(Graph):\n",
    "    \"\"\"\n",
    "    Function to simulate the election process, takes the Graph as input and\n",
    "    gives the final voting preferences (dictionary) as output.\n",
    "    \"\"\"\n",
    "    init_conf = initial_voting_state(Graph)\n",
    "    conf = iterate_voting(Graph, init_conf)\n",
    "    return conf"
   ]
  },
  {
   "cell_type": "code",
   "execution_count": 6,
   "metadata": {},
   "outputs": [],
   "source": [
    "def winner(conf):\n",
    "    \"\"\"\n",
    "    Function to get the winner of election process.\n",
    "    :param - conf: Dictionary object mapping node ids to the voting preferences\n",
    "\n",
    "    return type: char, int\n",
    "    return: Return candidate ('A','B') followed by the number of votes by which\n",
    "            the candidate wins.\n",
    "            If there is a tie, return 'U', 0\n",
    "    \"\"\"\n",
    "    counter = {'A': 0, 'B': 0}\n",
    "    for value in conf.values():\n",
    "        counter[value] += 1\n",
    "    if counter['A'] > counter['B']:\n",
    "        return 'A', counter['A'] - counter['B']\n",
    "    elif counter['B'] > counter['A']:\n",
    "        return 'B', counter['B'] - counter['A']\n",
    "    else:\n",
    "        return 'U', 0"
   ]
  },
  {
   "cell_type": "code",
   "execution_count": 7,
   "metadata": {},
   "outputs": [],
   "source": [
    "def Q1():\n",
    "    print (\"\\nQ1:\")\n",
    "    Gs = read_graphs('graph1.txt', 'graph2.txt')    # List of graphs\n",
    "\n",
    "    # Simulate election process for both graphs to get final voting preference\n",
    "    final_confs = [sim_election(G) for G in Gs]\n",
    "\n",
    "    # return final_confs\n",
    "    # Get the winner of the election, and the difference in votes for both\n",
    "    # graphs\n",
    "    res = [winner(conf) for conf in final_confs]\n",
    "\n",
    "    for i in range(2):\n",
    "        print(\"In graph %d, candidate %s wins by %d votes\" % (\n",
    "                i+1, res[i][0], res[i][1]\n",
    "        ))"
   ]
  },
  {
   "cell_type": "code",
   "execution_count": 8,
   "metadata": {},
   "outputs": [
    {
     "name": "stdout",
     "output_type": "stream",
     "text": [
      "\n",
      "Q1:\n",
      "In graph 1, candidate B wins by 96 votes\n",
      "In graph 2, candidate B wins by 256 votes\n"
     ]
    }
   ],
   "source": [
    "Q1()"
   ]
  },
  {
   "cell_type": "markdown",
   "metadata": {},
   "source": [
    "## 3.2 TV Advertising"
   ]
  },
  {
   "cell_type": "code",
   "execution_count": 9,
   "metadata": {},
   "outputs": [],
   "source": [
    "def Q2sim(Graph, k):\n",
    "    \"\"\"\n",
    "    Function to simulate the effect of advertising.\n",
    "    :param - Graph: snap.PUNGraph object representing an undirected graph\n",
    "             k: amount to be spent on advertising\n",
    "\n",
    "    return type: int\n",
    "    return: The number of votes by which A wins (or loses), i.e. (number of\n",
    "            votes of A - number of votes of B)\n",
    "\n",
    "    Hint: Feel free to use initial_voting_state and iterate_voting functions.\n",
    "    \"\"\"\n",
    "    init_conf = initial_voting_state(Graph)\n",
    "    for i in range(3000, 3000 + k // 100):\n",
    "        init_conf[i] = 'A'\n",
    "    conf = iterate_voting(Graph, init_conf)\n",
    "    counter = {'A': 0, 'B': 0}\n",
    "    for value in conf.values():\n",
    "        counter[value] += 1\n",
    "    return counter['A'] - counter['B']"
   ]
  },
  {
   "cell_type": "code",
   "execution_count": 10,
   "metadata": {},
   "outputs": [],
   "source": [
    "def find_min_k(diffs):\n",
    "    \"\"\"\n",
    "    Function to return the minimum amount needed for A to win\n",
    "    :param - diff: list of (k, diff), where diff is the value by which A wins\n",
    "                   (or loses) i.e. (A-B), for that k.\n",
    "\n",
    "    return type: int\n",
    "    return: The minimum amount needed for A to win\n",
    "    \"\"\"\n",
    "    for k, diff in diffs:\n",
    "        if diff > 0:\n",
    "            return k\n",
    "    return 'more than %d' % diffs[-1][0]"
   ]
  },
  {
   "cell_type": "code",
   "execution_count": 11,
   "metadata": {},
   "outputs": [],
   "source": [
    "def makePlot(res, title):\n",
    "    \"\"\"\n",
    "    Function to plot the amount spent and the number of votes the candidate\n",
    "    wins by\n",
    "    :param - res: The list of 2 sublists for 2 graphs. Each sublist is a list\n",
    "                  of (k, diff) pair, where k is the amount spent, and diff is\n",
    "                  the difference in votes (A-B).\n",
    "             title: The title of the plot\n",
    "    \"\"\"\n",
    "    Ks = [[k for k, diff in sub] for sub in res]\n",
    "    res = [[diff for k, diff in sub] for sub in res]\n",
    "    for i in range(len(Ks)):\n",
    "        plt.plot(Ks[i], res[i], label='Graph %d' % (i + 1))\n",
    "    plt.plot(Ks[0], [0.0] * len(Ks[0]), ':', color='black')\n",
    "    plt.xlabel('Amount spent ($)')\n",
    "    plt.ylabel('#votes for A - #votes for B')\n",
    "    plt.title(title)\n",
    "    plt.legend()\n",
    "    plt.show()"
   ]
  },
  {
   "cell_type": "code",
   "execution_count": 12,
   "metadata": {},
   "outputs": [],
   "source": [
    "def Q2():\n",
    "    print (\"\\nQ2:\")\n",
    "    # List of graphs\n",
    "    Gs = read_graphs('graph1.txt', 'graph2.txt')\n",
    "\n",
    "    # List of amount of $ spent\n",
    "    Ks = [x * 1000 for x in range(1, 10)]\n",
    "\n",
    "    # List of (List of diff in votes (A-B)) for both graphs\n",
    "    res = [[(k, Q2sim(G, k)) for k in Ks] for G in Gs]\n",
    "\n",
    "    # List of minimum amount needed for both graphs\n",
    "    min_k = [find_min_k(diff) for diff in res]\n",
    "\n",
    "    formatString = \"On graph {}, the minimum amount you can spend to win is {}\"\n",
    "    for i in range(2):\n",
    "        print(formatString.format(i + 1, min_k[i]))\n",
    "\n",
    "    makePlot(res, 'TV Advertising')"
   ]
  },
  {
   "cell_type": "code",
   "execution_count": 13,
   "metadata": {},
   "outputs": [
    {
     "name": "stdout",
     "output_type": "stream",
     "text": [
      "\n",
      "Q2:\n",
      "On graph 1, the minimum amount you can spend to win is 5000\n",
      "On graph 2, the minimum amount you can spend to win is 7000\n"
     ]
    },
    {
     "data": {
      "image/png": "[encoded data removed]",
      "text/plain": [
       "<Figure size 432x288 with 1 Axes>"
      ]
     },
     "metadata": {
      "needs_background": "light"
     },
     "output_type": "display_data"
    }
   ],
   "source": [
    "Q2()"
   ]
  },
  {
   "cell_type": "markdown",
   "metadata": {},
   "source": [
    "## 3.3 Wining and Dining the High Rollers"
   ]
  },
  {
   "cell_type": "code",
   "execution_count": 14,
   "metadata": {},
   "outputs": [],
   "source": [
    "def find_high_rollers(Graph):\n",
    "    \"\"\"\n",
    "    Function to find nodes with highest degree, when there are ties between \n",
    "    voters with the same degree, the high roller with lowest node ID get \n",
    "    chosen first.\n",
    "    :param - Graph: snap.PUNGraph object representing an undirected graph\n",
    "\n",
    "    return type: Python list\n",
    "    return: A list of node_id, from highest degree to lowest degree\n",
    "    \"\"\"\n",
    "    id_degree_list = [(node_id, Graph.GetNI(node_id).GetDeg()) for node_id in range(num_voters)]\n",
    "    # sorted function in Python is stable, so node with same degree will be sorted by id\n",
    "    id_degree_list = sorted(id_degree_list, key=lambda x:-x[1])\n",
    "    return [node_id for node_id, degree in id_degree_list]"
   ]
  },
  {
   "cell_type": "code",
   "execution_count": 15,
   "metadata": {},
   "outputs": [],
   "source": [
    "def Q3sim(Graph, k):\n",
    "    \"\"\"\n",
    "    Function to simulate the effect of a dining event.\n",
    "    :param - Graph: snap.PUNGraph object representing an undirected graph\n",
    "             k: amount to be spent on the dining event\n",
    "\n",
    "    return type: int\n",
    "    return: The number of votes by which A wins (or loses), i.e. (number of\n",
    "            votes of A - number of votes of B)\n",
    "\n",
    "    Hint: Feel free to use initial_voting_state and iterate_voting functions.\n",
    "    \"\"\"\n",
    "    init_conf = initial_voting_state(Graph)\n",
    "    high_rollers = find_high_rollers(Graph)\n",
    "    for i in range(k // 1000):\n",
    "        init_conf[high_rollers[i]] = 'A'\n",
    "    conf = iterate_voting(Graph, init_conf)\n",
    "    counter = {'A': 0, 'B': 0}\n",
    "    for value in conf.values():\n",
    "        counter[value] += 1\n",
    "    return counter['A'] - counter['B']"
   ]
  },
  {
   "cell_type": "code",
   "execution_count": 16,
   "metadata": {},
   "outputs": [],
   "source": [
    "def Q3():\n",
    "    print (\"\\nQ3:\")\n",
    "    # List of graphs\n",
    "    Gs = read_graphs('graph1.txt', 'graph2.txt')\n",
    "\n",
    "    # List of amount of $ spent\n",
    "    Ks = [x * 1000 for x in range(1, 10)]\n",
    "\n",
    "    # List of (List of diff in votes (A-B)) for both graphs\n",
    "    res = [[(k, Q3sim(G, k)) for k in Ks] for G in Gs]\n",
    "\n",
    "    # List of minimum amount needed for both graphs\n",
    "    min_k = [find_min_k(diff) for diff in res]\n",
    "\n",
    "    formatString = \"On graph {}, the minimum amount you can spend to win is {}\"\n",
    "    for i in range(2):\n",
    "        print(formatString.format(i + 1, min_k[i]))\n",
    "\n",
    "    makePlot(res, 'Wining and Dining')"
   ]
  },
  {
   "cell_type": "code",
   "execution_count": 17,
   "metadata": {},
   "outputs": [
    {
     "name": "stdout",
     "output_type": "stream",
     "text": [
      "\n",
      "Q3:\n",
      "On graph 1, the minimum amount you can spend to win is more than 9000\n",
      "On graph 2, the minimum amount you can spend to win is 6000\n"
     ]
    },
    {
     "data": {
      "image/png": "[encoded data removed]",
      "text/plain": [
       "<Figure size 432x288 with 1 Axes>"
      ]
     },
     "metadata": {
      "needs_background": "light"
     },
     "output_type": "display_data"
    }
   ],
   "source": [
    "Q3()"
   ]
  },
  {
   "cell_type": "markdown",
   "metadata": {},
   "source": [
    "## 3.4 Analysis"
   ]
  },
  {
   "cell_type": "code",
   "execution_count": 18,
   "metadata": {},
   "outputs": [
    {
     "name": "stdout",
     "output_type": "stream",
     "text": [
      "\n",
      "Q4:\n",
      "\t# Nodes\t# Edges\n",
      "Graph1\t10000\t100000\n",
      "Graph2\t10000\t99900\n"
     ]
    },
    {
     "data": {
      "image/png": "[encoded data removed]",
      "text/plain": [
       "<Figure size 432x288 with 1 Axes>"
      ]
     },
     "metadata": {
      "needs_background": "light"
     },
     "output_type": "display_data"
    }
   ],
   "source": [
    "def Q4():\n",
    "    \"\"\"\n",
    "    Function to plot the distributions of two given graphs on a log-log scale.\n",
    "    \"\"\"\n",
    "    print (\"\\nQ4:\")\n",
    "    Gs = read_graphs('graph1.txt', 'graph2.txt')\n",
    "    \n",
    "    # graph statistics\n",
    "    print('\\t# Nodes\\t# Edges')\n",
    "    for i in range(2):\n",
    "        print('Graph%d\\t%d\\t%d' % (i + 1, Gs[i].GetNodes(), Gs[i].GetEdges()))\n",
    "    \n",
    "    # degree distribution\n",
    "    for i, G in enumerate(Gs):\n",
    "        DegToCntV = snap.TIntPrV()\n",
    "        snap.GetOutDegCnt(G, DegToCntV)\n",
    "        degrees = [p.GetVal1() for p in DegToCntV if p.GetVal1() > 0]\n",
    "        counts = [p.GetVal2() for p in DegToCntV if p.GetVal1() > 0]\n",
    "        plt.plot(degrees, counts, '+-', label='Graph%d' % (i + 1))\n",
    "    plt.xscale('log')\n",
    "    plt.yscale('log')\n",
    "    plt.xlabel('Degree (log)')\n",
    "    plt.ylabel('Count (log)')\n",
    "    plt.legend()\n",
    "    plt.show()\n",
    "Q4()"
   ]
  },
  {
   "cell_type": "markdown",
   "metadata": {},
   "source": [
    "It is true that both graphs have same number of nodes (10000) and approximately same number of edges (100000 v.s. 99900). However, there degree dictribution is different. \n",
    "- In Graph 1, no nodes have degree larger than 40 (when average degree is $2m/n = 20$). So selecting the high rollers will not have significantly better effects. And as it costs 10 times more to treat the high rollers, it cannot help Candidate A to win the election with limited campaign war chest. \n",
    "- However in Graph 2, some nodes have much higher degrees. They are the influencial people in the social network. So spending money on high rollers in Graph 2 has significantly better effect than doing that in Graph 1, and also has more influence than TV advertising. "
   ]
  },
  {
   "cell_type": "markdown",
   "metadata": {},
   "source": [
    "By the way, comparing the degree distribution plot to it in homework 1, problem 1. We find that graph 1 seems like to be an Erdos-Renyi random graph (or something similar), and graph 2 seems like to be a real social network. So in real life, maybe it is better to treat those high rollers. "
   ]
  }
 ],
 "metadata": {
  "kernelspec": {
   "display_name": "snap",
   "language": "python",
   "name": "snap"
  },
  "language_info": {
   "codemirror_mode": {
    "name": "ipython",
    "version": 3
   },
   "file_extension": ".py",
   "mimetype": "text/x-python",
   "name": "python",
   "nbconvert_exporter": "python",
   "pygments_lexer": "ipython3",
   "version": "3.7.9"
  }
 },
 "nbformat": 4,
 "nbformat_minor": 4
}
