{
 "cells": [
  {
   "cell_type": "markdown",
   "metadata": {},
   "source": [
    "# 2 Link Analysis"
   ]
  },
  {
   "cell_type": "markdown",
   "metadata": {},
   "source": [
    "## 2.1 Personalized PageRank I"
   ]
  },
  {
   "cell_type": "markdown",
   "metadata": {},
   "source": [
    "First we have to assume that the newcoming user will not change the graph of pages. This will be true if the nodes are webpages and edges are hyperlinks. Note that this might be wrong for the example in the lecture, where the graph is as user-item bipartite graph. Adding a new user will definitely change the structure of the original bipartite graph, and may also change the projected graph of item. If so, we connot use previous vectors. "
   ]
  },
  {
   "cell_type": "markdown",
   "metadata": {},
   "source": [
    "In this problem, we may assume that the graph is fixed. Then, the PageRank vector would be:\n",
    "$$\n",
    "r = \\beta M \\cdot r + (1 - \\beta) v\n",
    "$$\n",
    "where $r$ is the PageRank vector, $v$ is the (weighted) teleport vector, and $\\beta$ is the fixed teleport parameter. So, \n",
    "$$\n",
    "(I - \\beta M) \\cdot r = (1 - \\beta) v\n",
    "$$\n",
    "Assuming that matrix $I - \\beta M$ is invertible, each teleport vector $v$ could be linearly mapped to a PageRank vector $r$. So if a newcoming teleport vector could be expressed as a linear combination of given teleport vectors, then the PageRank vector will be the same combination. \n",
    "\n",
    "Plus, if matrix $I - \\beta M$ is not invertible (e.g. for disconnected graph), the computed vector is still a PageRank vector. But the PageRank vectoer will not be unique. "
   ]
  },
  {
   "cell_type": "markdown",
   "metadata": {},
   "source": [
    "Back to the problem, \n",
    "$$\n",
    "\\begin{aligned}\n",
    "v_A &= [1/3, 1/3, 1/3, 0, 0]^T \\\\\n",
    "v_B &= [0, 0, 1/3, 1/3, 1/3]^T \\\\\n",
    "v_C &= [1/3, 0, 0, 1/3, 1/3]^T \\\\\n",
    "v_D &= [1, 0, 0, 0, 0]^T \n",
    "\\end{aligned}\n",
    "$$"
   ]
  },
  {
   "cell_type": "markdown",
   "metadata": {},
   "source": [
    "### i. \n",
    "$$\n",
    "\\begin{aligned}\n",
    "& v_E = [0, 1, 0, 0, 0]^T = [v_A, v_B, v_C, v_D] \\cdot [3, -3, 3, -2]^T \\\\\n",
    "\\to & r_E = [r_A, r_B, r_C, r_D] \\cdot [3, -3, 3, -2]^T\n",
    "\\end{aligned}\n",
    "$$"
   ]
  },
  {
   "cell_type": "markdown",
   "metadata": {},
   "source": [
    "### ii. \n",
    "The teleport vector of Felicity cannot be expressed as linear combination of $v_A, v_B, v_C, v_D$. So we cannot compute its PageRank vector without lokking at the graph. "
   ]
  },
  {
   "cell_type": "markdown",
   "metadata": {},
   "source": [
    "### iii. \n",
    "$$\n",
    "\\begin{aligned}\n",
    "& v_G = [0.1, 0.2, 0.3, 0.2, 0.2]^T = [v_A, v_B, v_C, v_D] \\cdot [0.6, 0.3, 0.3, -0.2]^T \\\\\n",
    "\\to & r_E = [r_A, r_B, r_C, r_D] \\cdot [0.6, 0.3, 0.3, -0.2]^T\n",
    "\\end{aligned}\n",
    "$$"
   ]
  },
  {
   "cell_type": "markdown",
   "metadata": {},
   "source": [
    "## 2.2 Personalized PageRank II"
   ]
  },
  {
   "cell_type": "markdown",
   "metadata": {},
   "source": [
    "We can compute the vectors that can be expressed as a linear combination of vectors in $V$, without accessing the web graph: "
   ]
  },
  {
   "cell_type": "markdown",
   "metadata": {},
   "source": [
    "## 2.3 A different equation for PageRank"
   ]
  },
  {
   "cell_type": "markdown",
   "metadata": {},
   "source": [
    "$$\n",
    "\\begin{aligned}\n",
    "\\mathbf{r} &= \\mathbf{A} \\mathbf{r} \\\\\n",
    "&= \\left( \\beta \\mathbf{M} + \\frac{1 - \\beta}{N} \\mathbf{1}\\mathbf{1}^T \\right) \\mathbf{r} \\\\\n",
    "&= \\beta \\mathbf{M} \\mathbf{r} + \\frac{1 - \\beta}{N} \\mathbf{1}\\left(\\mathbf{1}^T \\mathbf{r} \\right) \\\\\n",
    "&= \\beta \\mathbf{M} \\mathbf{r} + \\frac{1 - \\beta}{N} \\mathbf{1}\n",
    "\\end{aligned}\n",
    "$$"
   ]
  },
  {
   "cell_type": "code",
   "execution_count": null,
   "metadata": {},
   "outputs": [],
   "source": []
  }
 ],
 "metadata": {
  "kernelspec": {
   "display_name": "Python 3",
   "language": "python",
   "name": "python3"
  },
  "language_info": {
   "codemirror_mode": {
    "name": "ipython",
    "version": 3
   },
   "file_extension": ".py",
   "mimetype": "text/x-python",
   "name": "python",
   "nbconvert_exporter": "python",
   "pygments_lexer": "ipython3",
   "version": "3.8.3"
  }
 },
 "nbformat": 4,
 "nbformat_minor": 4
}
