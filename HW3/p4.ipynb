{
 "cells": [
  {
   "cell_type": "markdown",
   "metadata": {},
   "source": [
    "# 4 Influence Maximization"
   ]
  },
  {
   "cell_type": "markdown",
   "metadata": {},
   "source": [
    "## 4.1 Non-Optimal Hill-Climbing\n",
    "![Graph for problem 4.1](./p4_pics/4-1.png)\n",
    "\n",
    "In this graph, \n",
    "- $S_1$ will be {C1}, and $S_2$ will be {C1, A1} (or {C1, B1}), so $f(S_2) = 7$\n",
    "- $T$ will be {A1, B1}, so $f(T) = 8$\n",
    "\n",
    "So we get $f(S_2) < f(T)$"
   ]
  },
  {
   "cell_type": "markdown",
   "metadata": {},
   "source": [
    "## 4.2 Bounded Non-Optimal Hill-Climbing\n",
    "![Graph for problem 4.2](./p4_pics/4-2.png)\n",
    "\n",
    "In this graph, \n",
    "- $S_1$ will be {D1}, $S_2$ will be {D1, A1} and $S_3$ will be {D1, A1, B1}, so $f(S_3) = 36$\n",
    "- $T$ will be {A1, B1, C1}, so $f(T) = 45$\n",
    "\n",
    "So we get $f(S_3) = 0.8 f(T)$"
   ]
  },
  {
   "cell_type": "markdown",
   "metadata": {},
   "source": [
    "## 4.3 Optimality of Hill-Climbing\n",
    "$$\n",
    "X_a \\subseteq X_b \\text{ or } X_b \\subseteq X_a, \\forall X_a \\cap X_b \\neq \\phi\n",
    "$$ "
   ]
  },
  {
   "cell_type": "markdown",
   "metadata": {},
   "source": [
    "## 4.4 More Hill-Climbing...\n",
    "The family of graph should also be corresponding to $k$, which means that we need to find a set $F$ of examples such that for any number $b$ and $k$, there exists a network (graph) $E(k, b) \\in F$ such that $f(S_k) + \\sum_{i=1}^k \\delta_i - f(T) > b$. \n",
    "\n",
    "![Graph for problem 4.3](./p4_pics/4-3.png)\n",
    "\n",
    "We construct a family of graph like above. For any number of $k>0$ and $b>0$, we set $m = 2k$ and $n = \\lceil b / k \\rceil + 1$. Therefore, \n",
    "$$\n",
    "f(S_k) - f(T) + \\sum_{i=1}^k \\delta_i = 0 + k \\cdot (\\lceil b / k \\rceil + 1) \\geq b + k > b\n",
    "$$"
   ]
  },
  {
   "cell_type": "code",
   "execution_count": null,
   "metadata": {},
   "outputs": [],
   "source": []
  }
 ],
 "metadata": {
  "kernelspec": {
   "display_name": "Python 3",
   "language": "python",
   "name": "python3"
  },
  "language_info": {
   "codemirror_mode": {
    "name": "ipython",
    "version": 3
   },
   "file_extension": ".py",
   "mimetype": "text/x-python",
   "name": "python",
   "nbconvert_exporter": "python",
   "pygments_lexer": "ipython3",
   "version": "3.8.3"
  }
 },
 "nbformat": 4,
 "nbformat_minor": 4
}
