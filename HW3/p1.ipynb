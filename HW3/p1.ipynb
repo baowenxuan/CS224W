{
 "cells": [
  {
   "cell_type": "markdown",
   "metadata": {},
   "source": [
    "# 1 Bowtie Structure of Non-Web Networks"
   ]
  },
  {
   "cell_type": "code",
   "execution_count": 1,
   "metadata": {},
   "outputs": [],
   "source": [
    "import snap\n",
    "import numpy as np\n",
    "import matplotlib.pyplot as plt"
   ]
  },
  {
   "cell_type": "code",
   "execution_count": 2,
   "metadata": {},
   "outputs": [],
   "source": [
    "# load graphs\n",
    "Epinions = snap.LoadEdgeList(snap.PNGraph, \"soc-Epinions1.txt\", 0, 1)\n",
    "Email = snap.LoadEdgeList(snap.PNGraph, \"email-EuAll.txt\", 0, 1)"
   ]
  },
  {
   "cell_type": "markdown",
   "metadata": {},
   "source": [
    "## 1.1 Node Position"
   ]
  },
  {
   "cell_type": "code",
   "execution_count": 3,
   "metadata": {},
   "outputs": [],
   "source": [
    "def node_position(Graph, Idx):\n",
    "    print('Number of nodes in Graph:', Graph.GetNodes())\n",
    "    \n",
    "    # largest strongly conencted component\n",
    "    MxScc = snap.GetMxScc(Graph)\n",
    "    SCC = {n.GetId() for n in MxScc.Nodes()}\n",
    "    print('Number of nodes in Largest SCC:', len(SCC))\n",
    "    \n",
    "    # in and out BFS\n",
    "    InBfsTree = snap.GetBfsTree(Graph, Idx, False, True)\n",
    "    InNodes = {n.GetId() for n in InBfsTree.Nodes()}\n",
    "    OutBfsTree = snap.GetBfsTree(Graph, Idx, True, False)\n",
    "    OutNodes = {n.GetId() for n in OutBfsTree.Nodes()}\n",
    "    print('Number of nodes in in/out BFS tree: %d / %d' % (len(InNodes), len(OutNodes)))\n",
    "    \n",
    "    # whether in/out BFS tree include the largest SCC\n",
    "    print('In BFS includes the largest SCC:', SCC.issubset(InNodes))\n",
    "    print('Out BFS includes the largest SCC:', SCC.issubset(OutNodes))"
   ]
  },
  {
   "cell_type": "markdown",
   "metadata": {},
   "source": [
    "### Email"
   ]
  },
  {
   "cell_type": "code",
   "execution_count": 4,
   "metadata": {},
   "outputs": [
    {
     "name": "stdout",
     "output_type": "stream",
     "text": [
      "Number of nodes in Graph: 265214\n",
      "Number of nodes in Largest SCC: 34203\n",
      "Number of nodes in in/out BFS tree: 1 / 52104\n",
      "In BFS includes the largest SCC: False\n",
      "Out BFS includes the largest SCC: True\n"
     ]
    }
   ],
   "source": [
    "node_position(Email, 2018)"
   ]
  },
  {
   "cell_type": "markdown",
   "metadata": {},
   "source": [
    "Node 2018 has a large out BFS tree, which include the largest SCC. So node 2018 is in IN part of Bowtie structure. "
   ]
  },
  {
   "cell_type": "markdown",
   "metadata": {},
   "source": [
    "### Epinions"
   ]
  },
  {
   "cell_type": "code",
   "execution_count": 5,
   "metadata": {},
   "outputs": [
    {
     "name": "stdout",
     "output_type": "stream",
     "text": [
      "Number of nodes in Graph: 75879\n",
      "Number of nodes in Largest SCC: 32223\n",
      "Number of nodes in in/out BFS tree: 56459 / 47676\n",
      "In BFS includes the largest SCC: True\n",
      "Out BFS includes the largest SCC: True\n"
     ]
    }
   ],
   "source": [
    "node_position(Epinions, 224)"
   ]
  },
  {
   "cell_type": "markdown",
   "metadata": {},
   "source": [
    "Node 224 has large in and out BFS tree, which both include the largest SCC. So node 224 is in SCC part of Bowtie structure. "
   ]
  },
  {
   "cell_type": "markdown",
   "metadata": {},
   "source": [
    "## 1.2 Random-start BFS"
   ]
  },
  {
   "cell_type": "code",
   "execution_count": 6,
   "metadata": {},
   "outputs": [],
   "source": [
    "def reachability_plot(Graph, n_sample):\n",
    "    Ins = []\n",
    "    Outs = []\n",
    "    for i in range(n_sample):\n",
    "        Idx = Graph.GetRndNId()\n",
    "        InBfsTree = snap.GetBfsTree(Graph, Idx, False, True)\n",
    "        OutBfsTree = snap.GetBfsTree(Graph, Idx, True, False)\n",
    "        Ins.append(InBfsTree.GetNodes())\n",
    "        Outs.append(OutBfsTree.GetNodes())\n",
    "        print('.', end='')\n",
    "        \n",
    "    Ins, Outs = sorted(Ins), sorted(Outs)\n",
    "    \n",
    "    title_dict = {'inlinks': Ins, 'outlinks': Outs}\n",
    "    for name, data in title_dict.items():\n",
    "        plt.plot(np.arange(0, 1, 1/n_sample), data, label=name)\n",
    "    plt.yscale('log')\n",
    "    plt.title('Reachability using')\n",
    "    plt.xlabel('frac. of starting nodes')\n",
    "    plt.ylabel('number of nodes reached')\n",
    "    plt.legend(loc='upper left')\n",
    "    plt.show()\n",
    "    return sorted(Ins), sorted(Outs)"
   ]
  },
  {
   "cell_type": "markdown",
   "metadata": {},
   "source": [
    "### Email"
   ]
  },
  {
   "cell_type": "code",
   "execution_count": 7,
   "metadata": {},
   "outputs": [
    {
     "name": "stdout",
     "output_type": "stream",
     "text": [
      "...................................................................................................."
     ]
    },
    {
     "data": {
      "image/png": "[encoded data removed]",
      "text/plain": [
       "<Figure size 432x288 with 1 Axes>"
      ]
     },
     "metadata": {
      "needs_background": "light"
     },
     "output_type": "display_data"
    }
   ],
   "source": [
    "Ins, Outs = reachability_plot(Email, 100)"
   ]
  },
  {
   "cell_type": "markdown",
   "metadata": {},
   "source": [
    "A larger fraction of node will reach SCC using outlinks than inlinks. So\n",
    "$$\n",
    "\\text{IN} + \\text{SCC} > \\text{OUT} + \\text{SCC} \\to \\text{IN} > \\text{OUT}\n",
    "$$"
   ]
  },
  {
   "cell_type": "markdown",
   "metadata": {},
   "source": [
    "### Epinions"
   ]
  },
  {
   "cell_type": "code",
   "execution_count": 8,
   "metadata": {},
   "outputs": [
    {
     "name": "stdout",
     "output_type": "stream",
     "text": [
      "...................................................................................................."
     ]
    },
    {
     "data": {
      "image/png": "[encoded data removed]",
      "text/plain": [
       "<Figure size 432x288 with 1 Axes>"
      ]
     },
     "metadata": {
      "needs_background": "light"
     },
     "output_type": "display_data"
    }
   ],
   "source": [
    "Ins, Outs = reachability_plot(Epinions, 100)"
   ]
  },
  {
   "cell_type": "markdown",
   "metadata": {},
   "source": [
    "Similarly, we get $\\text{IN}$ is marginally larger than $\\text{OUT}$. "
   ]
  },
  {
   "cell_type": "markdown",
   "metadata": {},
   "source": [
    "## 1.3 Size of Bowtie Regions\n",
    "First, we apply `GetMxScc` and `GetMxWcc` to get the largest strongly and weakly connected components. It is obvious that\n",
    "$$\n",
    "\\begin{aligned}\n",
    "\\text{MxScc} &= \\text{SCC} \\\\\n",
    "\\text{MxWcc} &= \\text{SCC} + \\text{IN} + \\text{OUT} + \\text{TENDRILS} + \\text{TUBES}\n",
    "\\end{aligned}\n",
    "$$\n",
    "Then we pick a node in $\\text{SCC}$, applying both in and out BFS. We could find that\n",
    "$$\n",
    "\\begin{aligned}\n",
    "\\text{InNodes} &= \\text{IN} + \\text{SCC} \\\\\n",
    "\\text{OutNodes} &= \\text{OUT} + \\text{SCC}\n",
    "\\end{aligned}\n",
    "$$\n",
    "So \n",
    "$$\n",
    "\\text{IN} = \\text{InNodes} - \\text{MxScc} \\\\\n",
    "\\text{OUT} = \\text{OutNodes} - \\text{MxScc} \\\\\n",
    "\\text{TENDRILS} + \\text{TUBES} = \\text{MxWcc} - \\text{InNodes} - \\text{OutNodes} \\\\\n",
    "$$\n",
    "Note that here operator subtract means difference set.   \n",
    "And finally $\\text{DISCONNECTED} = \\text{ALL} - \\text{MxWcc}$"
   ]
  },
  {
   "cell_type": "code",
   "execution_count": 9,
   "metadata": {},
   "outputs": [],
   "source": [
    "def bowtie_regions(Graph):\n",
    "    ALL = {n.GetId() for n in Graph.Nodes()}\n",
    "    \n",
    "    # largest strongly conencted component\n",
    "    MxScc = snap.GetMxScc(Graph)\n",
    "    SCC = {n.GetId() for n in MxScc.Nodes()}\n",
    "    MxWcc = snap.GetMxWcc(Graph)\n",
    "    WCC = {n.GetId() for n in MxWcc.Nodes()}\n",
    "    \n",
    "    Idx = list(SCC)[0]  # select a node from SCC\n",
    "    # in and out BFS\n",
    "    InBfsTree = snap.GetBfsTree(Graph, Idx, False, True)\n",
    "    InNodes = {n.GetId() for n in InBfsTree.Nodes()}\n",
    "    OutBfsTree = snap.GetBfsTree(Graph, Idx, True, False)\n",
    "    OutNodes = {n.GetId() for n in OutBfsTree.Nodes()}\n",
    "    IN = InNodes - SCC\n",
    "    OUT = OutNodes - SCC\n",
    "    TENDRILS_TUBES = WCC - InNodes - OutNodes\n",
    "    DISCONNECTED = ALL - WCC\n",
    "    \n",
    "    d = {\n",
    "        'IN': IN, \n",
    "        'OUT': OUT, \n",
    "        'SCC': SCC, \n",
    "        'TENDRILS_TUBES': TENDRILS_TUBES,\n",
    "        'DISCONNECTED': DISCONNECTED,\n",
    "    }\n",
    "    return d"
   ]
  },
  {
   "cell_type": "markdown",
   "metadata": {},
   "source": [
    "### Email"
   ]
  },
  {
   "cell_type": "code",
   "execution_count": 10,
   "metadata": {},
   "outputs": [
    {
     "name": "stdout",
     "output_type": "stream",
     "text": [
      "Number of nodes in IN: 151023\n",
      "Number of nodes in OUT: 17900\n",
      "Number of nodes in SCC: 34203\n",
      "Number of nodes in TENDRILS_TUBES: 21706\n",
      "Number of nodes in DISCONNECTED: 40382\n"
     ]
    }
   ],
   "source": [
    "d = bowtie_regions(Email)\n",
    "for name, data in d.items():\n",
    "    print('Number of nodes in %s: %d' % (name, len(data)))"
   ]
  },
  {
   "cell_type": "markdown",
   "metadata": {},
   "source": [
    "### Epinions"
   ]
  },
  {
   "cell_type": "code",
   "execution_count": 11,
   "metadata": {},
   "outputs": [
    {
     "name": "stdout",
     "output_type": "stream",
     "text": [
      "Number of nodes in IN: 24236\n",
      "Number of nodes in OUT: 15453\n",
      "Number of nodes in SCC: 32223\n",
      "Number of nodes in TENDRILS_TUBES: 3965\n",
      "Number of nodes in DISCONNECTED: 2\n"
     ]
    }
   ],
   "source": [
    "d = bowtie_regions(Epinions)\n",
    "for name, data in d.items():\n",
    "    print('Number of nodes in %s: %d' % (name, len(data)))"
   ]
  },
  {
   "cell_type": "markdown",
   "metadata": {},
   "source": [
    "The results are coherent to our guess in 1.2"
   ]
  },
  {
   "cell_type": "markdown",
   "metadata": {},
   "source": [
    "### 1.4 Probability of a Path Existing Between Two Randomly Chosen Nodes"
   ]
  },
  {
   "cell_type": "markdown",
   "metadata": {},
   "source": [
    "Assume that there are relatively $p_\\text{in}, p_\\text{out}, p_\\text{scc}$ fraction of nodes in the graph. There are 9 cases of choosing start node and finish node:  \n",
    "\n",
    "| start | finish | result | probability |\n",
    "|:----:|:----:|:----:|:----:|\n",
    "| IN | IN | not sure | $p_\\text{in}^2$ |\n",
    "| IN | SCC | path | $p_\\text{in} p_\\text{scc}$ |\n",
    "| IN | OUT | path | $p_\\text{in} p_\\text{out}$ |\n",
    "| SCC | IN | no path| $p_\\text{in} p_\\text{scc}$ |\n",
    "| SCC | SCC | path | $p_\\text{scc}^2$ |\n",
    "| SCC | OUT | path | $p_\\text{scc} p_\\text{out}$ |\n",
    "| OUT | IN | no path | $p_\\text{in} p_\\text{out}$ |\n",
    "| OUT | SCC | no path | $p_\\text{scc} p_\\text{out}$ |\n",
    "| OUT | OUT | not sure | $p_\\text{out}^2$ |"
   ]
  },
  {
   "cell_type": "markdown",
   "metadata": {},
   "source": [
    "So the probability that there is a path is at least $(p_\\text{in} + p_\\text{scc})(p_\\text{scc} + p_\\text{out})$ (if there is no direct path between any two nodes in both IN and OUT), and at most $(p_\\text{in} + p_\\text{scc})(p_\\text{scc} + p_\\text{out}) + p_\\text{in}^2 + p_\\text{out}^2$ (if both IN and OUT are smaller SCC).  \n",
    "Personally I guess the real probability is slightly larger than $(p_\\text{in} + p_\\text{scc})(p_\\text{scc} + p_\\text{out})$. "
   ]
  },
  {
   "cell_type": "markdown",
   "metadata": {},
   "source": [
    "We can actually verify that! "
   ]
  },
  {
   "cell_type": "code",
   "execution_count": 12,
   "metadata": {},
   "outputs": [],
   "source": [
    "def path_rate(Graph, n_sample=100, ignore=True):\n",
    "    result = []\n",
    "    d = bowtie_regions(Graph)\n",
    "    region = d['IN'] | d['OUT'] | d['SCC']\n",
    "    i = 0\n",
    "    while i < n_sample:\n",
    "        start = Graph.GetRndNId()\n",
    "        finish = Graph.GetRndNId()\n",
    "        if ignore and ((start not in region) or (finish not in region)):\n",
    "            continue\n",
    "        result.append(snap.GetShortPath(Graph, start, finish, True))\n",
    "        i = i + 1\n",
    "    return result"
   ]
  },
  {
   "cell_type": "code",
   "execution_count": 13,
   "metadata": {},
   "outputs": [],
   "source": [
    "def expect_rate(Graph):\n",
    "    d = bowtie_regions(Graph)\n",
    "    region = d['IN'] | d['OUT'] | d['SCC']\n",
    "    p_in = len(d['IN']) / len(d['IN'] | d['OUT'] | d['SCC'])\n",
    "    p_out = len(d['OUT']) / len(d['IN'] | d['OUT'] | d['SCC'])\n",
    "    p_scc = len(d['SCC']) / len(d['IN'] | d['OUT'] | d['SCC'])\n",
    "    return (p_in + p_scc) * (p_scc + p_out)"
   ]
  },
  {
   "cell_type": "markdown",
   "metadata": {},
   "source": [
    "### Email"
   ]
  },
  {
   "cell_type": "code",
   "execution_count": 14,
   "metadata": {},
   "outputs": [
    {
     "name": "stdout",
     "output_type": "stream",
     "text": [
      "Expected rate: 0.23390184381693388\n",
      "Real rate: 0.245\n"
     ]
    }
   ],
   "source": [
    "result = path_rate(Email, n_sample=1000)\n",
    "result = np.array(result) >= 0\n",
    "rates = np.cumsum(result) / np.arange(1, 1001)  # real rate\n",
    "expect = expect_rate(Email)\n",
    "print('Expected rate:', expect)\n",
    "print('Real rate:', rates[-1])"
   ]
  },
  {
   "cell_type": "code",
   "execution_count": 15,
   "metadata": {},
   "outputs": [
    {
     "data": {
      "image/png": "[encoded data removed]",
      "text/plain": [
       "<Figure size 432x288 with 1 Axes>"
      ]
     },
     "metadata": {
      "needs_background": "light"
     },
     "output_type": "display_data"
    }
   ],
   "source": [
    "plt.plot(rates, label='real rate')\n",
    "plt.plot([0, 1000], [expect, expect], '--', label='expected rate')\n",
    "plt.legend(loc='lower right')\n",
    "plt.show()"
   ]
  },
  {
   "cell_type": "markdown",
   "metadata": {},
   "source": [
    "### Epinions"
   ]
  },
  {
   "cell_type": "code",
   "execution_count": 16,
   "metadata": {},
   "outputs": [
    {
     "name": "stdout",
     "output_type": "stream",
     "text": [
      "Expected rate: 0.5205114147003642\n",
      "Real rate: 0.533\n"
     ]
    }
   ],
   "source": [
    "result = path_rate(Epinions, n_sample=1000)\n",
    "result = np.array(result) >= 0\n",
    "rates = np.cumsum(result) / np.arange(1, 1001)  # real rate\n",
    "expect = expect_rate(Epinions)\n",
    "print('Expected rate:', expect)\n",
    "print('Real rate:', rates[-1])"
   ]
  },
  {
   "cell_type": "code",
   "execution_count": 17,
   "metadata": {},
   "outputs": [
    {
     "data": {
      "image/png": "[encoded data removed]",
      "text/plain": [
       "<Figure size 432x288 with 1 Axes>"
      ]
     },
     "metadata": {
      "needs_background": "light"
     },
     "output_type": "display_data"
    }
   ],
   "source": [
    "plt.plot(rates, label='real rate')\n",
    "plt.plot([0, 1000], [expect, expect], '--', label='expected rate')\n",
    "plt.legend(loc='lower right')\n",
    "plt.show()"
   ]
  },
  {
   "cell_type": "markdown",
   "metadata": {},
   "source": [
    "It shows that the fraction of reachable pairs will approxconverge to "
   ]
  }
 ],
 "metadata": {
  "kernelspec": {
   "display_name": "snap",
   "language": "python",
   "name": "snap"
  },
  "language_info": {
   "codemirror_mode": {
    "name": "ipython",
    "version": 3
   },
   "file_extension": ".py",
   "mimetype": "text/x-python",
   "name": "python",
   "nbconvert_exporter": "python",
   "pygments_lexer": "ipython3",
   "version": "3.7.9"
  }
 },
 "nbformat": 4,
 "nbformat_minor": 4
}
