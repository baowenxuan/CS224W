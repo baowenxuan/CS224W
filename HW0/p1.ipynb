{
 "cells": [
  {
   "cell_type": "markdown",
   "metadata": {},
   "source": [
    "# Analyzing the Wikipedia voters network "
   ]
  },
  {
   "cell_type": "code",
   "execution_count": 1,
   "metadata": {},
   "outputs": [],
   "source": [
    "import snap"
   ]
  },
  {
   "cell_type": "markdown",
   "metadata": {},
   "source": [
    "## 0. Loading Graph"
   ]
  },
  {
   "cell_type": "code",
   "execution_count": 2,
   "metadata": {},
   "outputs": [],
   "source": [
    "G = snap.LoadEdgeList(snap.PNGraph, \"wiki-Vote.txt\", 0, 1)"
   ]
  },
  {
   "cell_type": "code",
   "execution_count": 3,
   "metadata": {},
   "outputs": [
    {
     "data": {
      "text/plain": [
       "-1"
      ]
     },
     "execution_count": 3,
     "metadata": {},
     "output_type": "execute_result"
    }
   ],
   "source": [
    "Gs = snap.PNGraph.New()\n",
    "Gs.AddNode(1)\n",
    "Gs.AddNode(2)\n",
    "Gs.AddNode(3)\n",
    "Gs.AddEdge(1, 2)\n",
    "Gs.AddEdge(2, 1)\n",
    "Gs.AddEdge(1, 3)\n",
    "Gs.AddEdge(1, 1)"
   ]
  },
  {
   "cell_type": "markdown",
   "metadata": {},
   "source": [
    "## 1. The number of nodes in the network. "
   ]
  },
  {
   "cell_type": "code",
   "execution_count": 4,
   "metadata": {},
   "outputs": [
    {
     "name": "stdout",
     "output_type": "stream",
     "text": [
      "3\n",
      "7115\n"
     ]
    }
   ],
   "source": [
    "print(Gs.GetNodes())\n",
    "print(G.GetNodes())"
   ]
  },
  {
   "cell_type": "markdown",
   "metadata": {},
   "source": [
    "## 2. The number of nodes with a self-edge (self-loop)"
   ]
  },
  {
   "cell_type": "code",
   "execution_count": 5,
   "metadata": {},
   "outputs": [
    {
     "name": "stdout",
     "output_type": "stream",
     "text": [
      "1\n",
      "0\n"
     ]
    }
   ],
   "source": [
    "print(snap.CntSelfEdges(Gs))\n",
    "print(snap.CntSelfEdges(G))"
   ]
  },
  {
   "cell_type": "markdown",
   "metadata": {},
   "source": [
    "## 3. The number of directed edges in the network"
   ]
  },
  {
   "cell_type": "code",
   "execution_count": 6,
   "metadata": {},
   "outputs": [
    {
     "name": "stdout",
     "output_type": "stream",
     "text": [
      "3\n",
      "103689\n"
     ]
    }
   ],
   "source": [
    "print(snap.CntUniqDirEdges(Gs))\n",
    "print(snap.CntUniqDirEdges(G))"
   ]
  },
  {
   "cell_type": "markdown",
   "metadata": {},
   "source": [
    "## 4. The number of undirected edges in the network"
   ]
  },
  {
   "cell_type": "code",
   "execution_count": 7,
   "metadata": {},
   "outputs": [
    {
     "name": "stdout",
     "output_type": "stream",
     "text": [
      "2\n",
      "100762\n"
     ]
    }
   ],
   "source": [
    "print(snap.CntUniqUndirEdges(Gs))\n",
    "print(snap.CntUniqUndirEdges(G))"
   ]
  },
  {
   "cell_type": "markdown",
   "metadata": {},
   "source": [
    "## 5. The number of reciprocated edges in the network"
   ]
  },
  {
   "cell_type": "code",
   "execution_count": 8,
   "metadata": {},
   "outputs": [
    {
     "name": "stdout",
     "output_type": "stream",
     "text": [
      "1\n",
      "2927\n"
     ]
    }
   ],
   "source": [
    "print(snap.CntUniqBiDirEdges(Gs))\n",
    "print(snap.CntUniqBiDirEdges(G))"
   ]
  },
  {
   "cell_type": "markdown",
   "metadata": {},
   "source": [
    "## 6. The number of nodes of zero out-degree"
   ]
  },
  {
   "cell_type": "code",
   "execution_count": 9,
   "metadata": {},
   "outputs": [
    {
     "name": "stdout",
     "output_type": "stream",
     "text": [
      "1\n",
      "1005\n"
     ]
    }
   ],
   "source": [
    "print(snap.CntOutDegNodes(Gs, 0))\n",
    "print(snap.CntOutDegNodes(G, 0))"
   ]
  },
  {
   "cell_type": "markdown",
   "metadata": {},
   "source": [
    "## 7. The number of nodes of zero in-degree"
   ]
  },
  {
   "cell_type": "code",
   "execution_count": 10,
   "metadata": {},
   "outputs": [
    {
     "name": "stdout",
     "output_type": "stream",
     "text": [
      "0\n",
      "4734\n"
     ]
    }
   ],
   "source": [
    "print(snap.CntInDegNodes(Gs, 0))\n",
    "print(snap.CntInDegNodes(G, 0))"
   ]
  },
  {
   "cell_type": "markdown",
   "metadata": {},
   "source": [
    "## 8. The number of nodes with more than 10 outgoing edges (out-degree > 10)"
   ]
  },
  {
   "cell_type": "code",
   "execution_count": 11,
   "metadata": {},
   "outputs": [],
   "source": [
    "def CountNodesWithOutDegreeMoreThan(G, n):\n",
    "    DegToCntV = snap.TIntPrV()\n",
    "    snap.GetOutDegCnt(G, DegToCntV)\n",
    "    count = 0\n",
    "    for p in DegToCntV:\n",
    "        if p.GetVal1() > n:\n",
    "            count += p.GetVal2()\n",
    "    return count"
   ]
  },
  {
   "cell_type": "code",
   "execution_count": 12,
   "metadata": {},
   "outputs": [
    {
     "name": "stdout",
     "output_type": "stream",
     "text": [
      "1\n",
      "1612\n"
     ]
    }
   ],
   "source": [
    "print(CountNodesWithOutDegreeMoreThan(Gs, 1))\n",
    "print(CountNodesWithOutDegreeMoreThan(G, 10))"
   ]
  },
  {
   "cell_type": "markdown",
   "metadata": {},
   "source": [
    "## 9. The number of nodes with fewer than 10 incoming edges (in-degree < 10)"
   ]
  },
  {
   "cell_type": "code",
   "execution_count": 13,
   "metadata": {},
   "outputs": [],
   "source": [
    "def CountNodesWithInDegreeFewerThan(G, n):\n",
    "    DegToCntV = snap.TIntPrV()\n",
    "    snap.GetInDegCnt(G, DegToCntV)\n",
    "    count = 0\n",
    "    for p in DegToCntV:\n",
    "        if p.GetVal1() < n:\n",
    "            count += p.GetVal2()\n",
    "    return count"
   ]
  },
  {
   "cell_type": "code",
   "execution_count": 14,
   "metadata": {},
   "outputs": [
    {
     "name": "stdout",
     "output_type": "stream",
     "text": [
      "0\n",
      "5165\n"
     ]
    }
   ],
   "source": [
    "print(CountNodesWithInDegreeFewerThan(Gs, 1))\n",
    "print(CountNodesWithInDegreeFewerThan(G, 10))"
   ]
  },
  {
   "cell_type": "code",
   "execution_count": null,
   "metadata": {},
   "outputs": [],
   "source": []
  }
 ],
 "metadata": {
  "kernelspec": {
   "display_name": "snap",
   "language": "python",
   "name": "snap"
  },
  "language_info": {
   "codemirror_mode": {
    "name": "ipython",
    "version": 3
   },
   "file_extension": ".py",
   "mimetype": "text/x-python",
   "name": "python",
   "nbconvert_exporter": "python",
   "pygments_lexer": "ipython3",
   "version": "3.7.9"
  }
 },
 "nbformat": 4,
 "nbformat_minor": 4
}
