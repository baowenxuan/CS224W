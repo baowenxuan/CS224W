{
 "cells": [
  {
   "cell_type": "code",
   "execution_count": 1,
   "metadata": {},
   "outputs": [],
   "source": [
    "import snap\n",
    "import numpy as np"
   ]
  },
  {
   "cell_type": "markdown",
   "metadata": {},
   "source": [
    "## 0. Loading Graph"
   ]
  },
  {
   "cell_type": "code",
   "execution_count": 2,
   "metadata": {},
   "outputs": [],
   "source": [
    "G = snap.LoadEdgeList(snap.PNGraph, \"stackoverflow-Java.txt\", 0, 1)"
   ]
  },
  {
   "cell_type": "markdown",
   "metadata": {},
   "source": [
    "## 1. The number of weakly connected components in the network"
   ]
  },
  {
   "cell_type": "code",
   "execution_count": 3,
   "metadata": {},
   "outputs": [
    {
     "name": "stdout",
     "output_type": "stream",
     "text": [
      "10143\n"
     ]
    }
   ],
   "source": [
    "CnComV = snap.TCnComV()\n",
    "snap.GetWccs(G, CnComV)\n",
    "print(CnComV.Len())"
   ]
  },
  {
   "cell_type": "markdown",
   "metadata": {},
   "source": [
    "## 2. The number of edges and the number of nodes in the largest weakly connected component"
   ]
  },
  {
   "cell_type": "code",
   "execution_count": 4,
   "metadata": {},
   "outputs": [
    {
     "name": "stdout",
     "output_type": "stream",
     "text": [
      "131188 322486\n"
     ]
    }
   ],
   "source": [
    "Gcom = snap.GetMxWcc(G)\n",
    "print(Gcom.GetNodes(), Gcom.GetEdges())"
   ]
  },
  {
   "cell_type": "markdown",
   "metadata": {},
   "source": [
    "## 3. IDs of the top 3 most central nodes in the network by PagePank scores"
   ]
  },
  {
   "cell_type": "code",
   "execution_count": 5,
   "metadata": {},
   "outputs": [
    {
     "name": "stdout",
     "output_type": "stream",
     "text": [
      "[992484 135152  22656]\n"
     ]
    }
   ],
   "source": [
    "PRankH = snap.TIntFltH()\n",
    "snap.GetPageRank(G, PRankH)\n",
    "IDs = np.array([ID for ID in PRankH])\n",
    "PRankScores = np.array([PRankH[ID] for ID in PRankH])\n",
    "rank = np.argsort(PRankScores)\n",
    "print(IDs[rank[-1:-4:-1]])"
   ]
  },
  {
   "cell_type": "markdown",
   "metadata": {},
   "source": [
    "## 4. IDs of the top 3 hubs and top 3 authorities in the network by HITS scores"
   ]
  },
  {
   "cell_type": "code",
   "execution_count": 6,
   "metadata": {},
   "outputs": [],
   "source": [
    "NIdHubH = snap.TIntFltH()\n",
    "NIdAuthH = snap.TIntFltH()\n",
    "snap.GetHits(G, NIdHubH, NIdAuthH)"
   ]
  },
  {
   "cell_type": "code",
   "execution_count": 7,
   "metadata": {},
   "outputs": [
    {
     "name": "stdout",
     "output_type": "stream",
     "text": [
      "[ 892029 1194415  359862]\n"
     ]
    }
   ],
   "source": [
    "# sort by hubs\n",
    "IDs = np.array([ID for ID in NIdHubH])\n",
    "Hubs = np.array([NIdHubH[ID] for ID in NIdHubH])\n",
    "rank = np.argsort(Hubs)\n",
    "print(IDs[rank[-1:-4:-1]])"
   ]
  },
  {
   "cell_type": "code",
   "execution_count": 8,
   "metadata": {},
   "outputs": [
    {
     "name": "stdout",
     "output_type": "stream",
     "text": [
      "[ 22656 157882 571407]\n"
     ]
    }
   ],
   "source": [
    "# sort by hubs\n",
    "IDs = np.array([ID for ID in NIdAuthH])\n",
    "Auths = np.array([NIdAuthH[ID] for ID in NIdAuthH])\n",
    "rank = np.argsort(Auths)\n",
    "print(IDs[rank[-1:-4:-1]])"
   ]
  },
  {
   "cell_type": "code",
   "execution_count": null,
   "metadata": {},
   "outputs": [],
   "source": []
  }
 ],
 "metadata": {
  "kernelspec": {
   "display_name": "snap",
   "language": "python",
   "name": "snap"
  },
  "language_info": {
   "codemirror_mode": {
    "name": "ipython",
    "version": 3
   },
   "file_extension": ".py",
   "mimetype": "text/x-python",
   "name": "python",
   "nbconvert_exporter": "python",
   "pygments_lexer": "ipython3",
   "version": "3.7.9"
  }
 },
 "nbformat": 4,
 "nbformat_minor": 4
}
