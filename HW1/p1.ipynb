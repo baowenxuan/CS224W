{
 "cells": [
  {
   "cell_type": "markdown",
   "metadata": {},
   "source": [
    "# 1 Network Characteristics"
   ]
  },
  {
   "cell_type": "code",
   "execution_count": 40,
   "metadata": {},
   "outputs": [],
   "source": [
    "import snap\n",
    "import numpy as np\n",
    "import matplotlib.pyplot as plt"
   ]
  },
  {
   "cell_type": "markdown",
   "metadata": {},
   "source": [
    "## 1.0 Generate & Read Graphs"
   ]
  },
  {
   "cell_type": "code",
   "execution_count": 45,
   "metadata": {},
   "outputs": [],
   "source": [
    "def index_to_edge(index, N=5242):\n",
    "    \"\"\"\n",
    "    convert an index to edge tuple\n",
    "    all tuples are aligned as followed: \n",
    "    (0, 1), (1, 2), (2, 3), ..., (N-1, 0)\n",
    "    (0, 2), (1, 3), (2, 4), ..., (N-1, 1)\n",
    "    ...\n",
    "    (0, N/2), (1, N/2+1), ...\n",
    "    This can be used in both Erdos Renyi and Small World\n",
    "    \"\"\"\n",
    "    row = index // N\n",
    "    col = index % N\n",
    "    return int(col), int((col + row + 1) % N)"
   ]
  },
  {
   "cell_type": "markdown",
   "metadata": {},
   "source": [
    "Erdos-Renyi Random Graph"
   ]
  },
  {
   "cell_type": "code",
   "execution_count": 46,
   "metadata": {},
   "outputs": [],
   "source": [
    "def genErdosRenyi(N=5242, E=14484):\n",
    "    \"\"\"\n",
    "    :param - N: number of nodes\n",
    "    :param - E: number of edges\n",
    "\n",
    "    return type: snap.PUNGraph\n",
    "    return: Erdos-Renyi graph with N nodes and E edges\n",
    "    \"\"\"\n",
    "    # Initialize a graph\n",
    "    Graph = snap.TUNGraph.New()\n",
    "    \n",
    "    # Add N nodes, indices from 0 to N - 1\n",
    "    for Id in range(N):\n",
    "        Graph.AddNode(Id)\n",
    "        \n",
    "    # Randomly select E edges by indices\n",
    "    indices = np.random.choice(int(N * (N - 1) / 2), E, replace=False)\n",
    "    \n",
    "    # Convert indices to tuples (src, dst)\n",
    "    for index in indices:\n",
    "        src, dst = index_to_edge(index, N)\n",
    "        Graph.AddEdge(src, dst)\n",
    "        \n",
    "    return Graph"
   ]
  },
  {
   "cell_type": "code",
   "execution_count": 62,
   "metadata": {},
   "outputs": [],
   "source": [
    "erdosRenyi = genErdosRenyi()"
   ]
  },
  {
   "cell_type": "markdown",
   "metadata": {},
   "source": [
    "Small-World Random Network"
   ]
  },
  {
   "cell_type": "code",
   "execution_count": 55,
   "metadata": {},
   "outputs": [],
   "source": [
    "def genSmallWorld(N=5242, E=14484):\n",
    "    \"\"\"\n",
    "    :param - N: number of nodes\n",
    "    :param - E: number of edges\n",
    "\n",
    "    return type: snap.PUNGraph\n",
    "    return: Small-World graph with N nodes and E edges\n",
    "    \"\"\"\n",
    "    Graph = snap.TUNGraph.New()\n",
    "    \n",
    "    # Add N nodes, indices from 0 to N - 1\n",
    "    for Id in range(N):\n",
    "        Graph.AddNode(Id)\n",
    "    \n",
    "    # genCircle & connectNbrOfNbr\n",
    "    for Id in range(N):\n",
    "        Graph.AddEdge(Id, (Id + 1) % N)\n",
    "        Graph.AddEdge(Id, (Id + 2) % N)\n",
    "    \n",
    "    # Randomly select E edges by indices\n",
    "    indices = np.random.choice(int(N * (N - 1) / 2 - 2 * N), E - 2 * N, replace=False)\n",
    "    indices = indices + 2 * N\n",
    "    # Convert indices to tuples (src, dst)\n",
    "    for index in indices:\n",
    "        src, dst = index_to_edge(index, N)\n",
    "        Graph.AddEdge(src, dst)\n",
    "    return Graph"
   ]
  },
  {
   "cell_type": "code",
   "execution_count": 95,
   "metadata": {},
   "outputs": [],
   "source": [
    "smallWorld = genSmallWorld()"
   ]
  },
  {
   "cell_type": "markdown",
   "metadata": {},
   "source": [
    "Real-World Collaboration Network"
   ]
  },
  {
   "cell_type": "code",
   "execution_count": 64,
   "metadata": {},
   "outputs": [],
   "source": [
    "def loadCollabNet(path='ca-GrQc.txt'):\n",
    "    \"\"\"\n",
    "    :param - path: path to edge list file\n",
    "\n",
    "    return type: snap.PUNGraph\n",
    "    return: Graph loaded from edge list at `path and self edges removed\n",
    "\n",
    "    Do not forget to remove the self edges!\n",
    "    \"\"\"\n",
    "    Graph = snap.LoadEdgeList(snap.PUNGraph, path, 0, 1)\n",
    "    snap.DelSelfEdges(Graph)\n",
    "    return Graph"
   ]
  },
  {
   "cell_type": "code",
   "execution_count": 65,
   "metadata": {},
   "outputs": [],
   "source": [
    "collabNet = loadCollabNet()"
   ]
  },
  {
   "cell_type": "markdown",
   "metadata": {},
   "source": [
    "## 1.1 Degree Distribution"
   ]
  },
  {
   "cell_type": "code",
   "execution_count": 96,
   "metadata": {},
   "outputs": [
    {
     "data": {
      "image/png": "[encoded data removed]",
      "text/plain": [
       "<Figure size 432x288 with 1 Axes>"
      ]
     },
     "metadata": {
      "needs_background": "light"
     },
     "output_type": "display_data"
    }
   ],
   "source": [
    "for G, name in zip([erdosRenyi, smallWorld, collabNet], ['erdosRenyi', 'smallWorld', 'collabNet']):\n",
    "    DegToCntV = snap.TIntPrV()\n",
    "    snap.GetOutDegCnt(G, DegToCntV)\n",
    "    degrees = np.array([p.GetVal1() for p in DegToCntV if p.GetVal1() > 0])\n",
    "    counts = np.array([p.GetVal2() for p in DegToCntV if p.GetVal1() > 0])\n",
    "    plt.plot(degrees, counts, '+-', label=name)\n",
    "plt.xscale('log')\n",
    "plt.yscale('log')\n",
    "plt.legend()\n",
    "plt.show()"
   ]
  },
  {
   "cell_type": "markdown",
   "metadata": {},
   "source": [
    "- Erdos-Renyi Random Graph has an approximately binomial degree distribution\n",
    "- Small World Network has a minimum degree of 4, has the narrowest distribution. It degree distribution is appoximately (4 + binomial distribution)\n",
    "- CollabNet has the widest distrubution"
   ]
  },
  {
   "cell_type": "markdown",
   "metadata": {},
   "source": [
    "## 1.2 Clustering Coefficient"
   ]
  },
  {
   "cell_type": "code",
   "execution_count": 86,
   "metadata": {},
   "outputs": [
    {
     "data": {
      "text/plain": [
       "0.529635811052136"
      ]
     },
     "execution_count": 86,
     "metadata": {},
     "output_type": "execute_result"
    }
   ],
   "source": [
    "def GetClustCf(Graph):\n",
    "    sum_clust_cf = 0.0\n",
    "    for node in Graph.Nodes():\n",
    "        degree = node.GetDeg()\n",
    "        e = 0\n",
    "        if degree <= 1:\n",
    "            continue\n",
    "        neighbor_ids = [node.GetNbrNId(i) for i in range(degree)]\n",
    "        for i in range(degree - 1):\n",
    "            for j in range(i + 1, degree):\n",
    "                if Graph.IsEdge(neighbor_ids[i], neighbor_ids[j]):\n",
    "                    e += 1\n",
    "        sum_clust_cf += 2 * e / (degree * (degree - 1))\n",
    "    return sum_clust_cf / Graph.GetNodes()"
   ]
  },
  {
   "cell_type": "code",
   "execution_count": 87,
   "metadata": {},
   "outputs": [
    {
     "name": "stdout",
     "output_type": "stream",
     "text": [
      "0.529635811052136 0.5296358110521371\n"
     ]
    }
   ],
   "source": [
    "print(GetClustCf(collabNet), snap.GetClustCf (collabNet, -1))"
   ]
  },
  {
   "cell_type": "markdown",
   "metadata": {},
   "source": [
    "The answer is the same as snap built-in function"
   ]
  },
  {
   "cell_type": "code",
   "execution_count": 97,
   "metadata": {},
   "outputs": [
    {
     "name": "stdout",
     "output_type": "stream",
     "text": [
      "erdosRenyi: 0.001191\n",
      "smallWorld: 0.282941\n",
      "collabNet: 0.529636\n"
     ]
    }
   ],
   "source": [
    "for G, name in zip([erdosRenyi, smallWorld, collabNet], ['erdosRenyi', 'smallWorld', 'collabNet']):\n",
    "    print('%s: %f' % (name, GetClustCf(G)))"
   ]
  },
  {
   "cell_type": "markdown",
   "metadata": {},
   "source": [
    "Collaboration Network has the largest average clustering coefficient. Maybe in real world, collaborators tends to be in a same research group, or an article may have more than 2 authors. "
   ]
  },
  {
   "cell_type": "code",
   "execution_count": null,
   "metadata": {},
   "outputs": [],
   "source": []
  }
 ],
 "metadata": {
  "kernelspec": {
   "display_name": "snap",
   "language": "python",
   "name": "snap"
  },
  "language_info": {
   "codemirror_mode": {
    "name": "ipython",
    "version": 3
   },
   "file_extension": ".py",
   "mimetype": "text/x-python",
   "name": "python",
   "nbconvert_exporter": "python",
   "pygments_lexer": "ipython3",
   "version": "3.7.9"
  }
 },
 "nbformat": 4,
 "nbformat_minor": 4
}
