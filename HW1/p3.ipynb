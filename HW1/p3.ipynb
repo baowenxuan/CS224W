{
 "cells": [
  {
   "cell_type": "code",
   "execution_count": 3,
   "metadata": {},
   "outputs": [],
   "source": [
    "import snap\n",
    "import numpy as np"
   ]
  },
  {
   "cell_type": "code",
   "execution_count": 276,
   "metadata": {},
   "outputs": [],
   "source": [
    "class LouvainGraph(object):\n",
    "    \"\"\"\n",
    "    Weighted, undirected graph for Louvain Method. Cannot change the topology of graph once it is initialized. \n",
    "    The Community can be changed after the graph is initialized\n",
    "    \"\"\"\n",
    "    def __init__(self, Edges, Communities=None):\n",
    "        self.Edges = np.array(Edges, dtype=int)  # adjacency matrix\n",
    "        self.n = self.Edges.shape[0]  # number of nodes\n",
    "        self.two_m = np.sum(self.Edges)  # number of edges * 2\n",
    "        if Communities is not None:\n",
    "            self.Communities = np.array(Communities, dtype=int)  # each node belongs to which community\n",
    "        else:\n",
    "            self.Communities = np.arange(self.n)  # initialize with identity community, if no community is given\n",
    "            \n",
    "        self.Degrees = np.sum(self.Edges, axis=0)  # degree distribution\n",
    "        self.ExpectedEdges = self.Degrees.reshape((-1, 1)) * self.Degrees.reshape((1, -1)) / self.two_m  # expected edges matrix\n",
    "        \n",
    "    def __str__(self):\n",
    "        return \"Edges:\\n%s\\nCommunities:\\n%s\"%(self.Edges, self.Communities)\n",
    "    \n",
    "    def rearrange_community(self):\n",
    "        Communities_set = np.unique(self.Communities)\n",
    "        mapper = {}\n",
    "        # print(Communities_set)\n",
    "        for index, value in enumerate(Communities_set):\n",
    "            # print(index, value)\n",
    "            mapper[value] = index\n",
    "        for index, value in enumerate(self.Communities):\n",
    "            self.Communities[index] = mapper[value]\n",
    "        \n",
    "    def neighbors_of_node(self, node):\n",
    "        nodes = (self.Edges[node] != 0)\n",
    "        nodes[node] = False  # exclude the inquired node itself\n",
    "        return np.where(nodes)[0]\n",
    "    \n",
    "    def community_of_node(self, node):\n",
    "        return self.Communities[node]\n",
    "    \n",
    "    def nodes_in_community(self, community):\n",
    "        return np.where(self.Communities == community)[0]\n",
    "    \n",
    "    def nodes_in_same_community_with_node(self, node):\n",
    "        community = self.community_of_node(node)\n",
    "        nodes = (self.Communities == community)\n",
    "        nodes[node] = False  # exclude the inquired node itself\n",
    "        return np.where(nodes)[0]\n",
    "        \n",
    "    def modularity(self):\n",
    "        SameCommunityMask = self.Communities.reshape((-1, 1)) == self.Communities.reshape((1, -1))\n",
    "        return np.sum((self.Edges - self.ExpectedEdges)[SameCommunityMask]) / self.two_m\n",
    "    \n",
    "    def modularity_gain_from_isolating(self, node):\n",
    "        nodes_c = self.nodes_in_same_community_with_node(node)\n",
    "        return - 2 * np.sum((self.Edges - self.ExpectedEdges)[node, nodes_c]) / self.two_m\n",
    "    \n",
    "    def modularity_gain_from_merging(self, node, community):\n",
    "        nodes_c = self.nodes_in_community(community)\n",
    "        return 2 * np.sum((self.Edges - self.ExpectedEdges)[node, nodes_c]) / self.two_m\n",
    "    \n",
    "    def modularity_optimization(self, maxIter=5, random=False, seed=0):\n",
    "        \"\"\"\n",
    "        Phase 1: modularity optimization\n",
    "        \"\"\"\n",
    "        self.rearrange_community()\n",
    "        if random:\n",
    "            np.random.seed(seed)\n",
    "        for epoch in range(maxIter):\n",
    "            change = False\n",
    "            if random:\n",
    "                nodes = np.random.choice(self.n, self.n, False)\n",
    "            else:\n",
    "                nodes = range(self.n)\n",
    "            for node in nodes:\n",
    "                # print('see node', node)\n",
    "                modularity_gain_from_isolating = self.modularity_gain_from_isolating(node)\n",
    "                neighbors = self.neighbors_of_node(node)\n",
    "                # print('neighbors', neighbors)\n",
    "                \n",
    "                max_modularity_gain_from_merging = 0\n",
    "                community_to_join = -1\n",
    "                for neighbor in neighbors:\n",
    "                    community = self.community_of_node(neighbor)\n",
    "                    modularity_gain_from_merging = self.modularity_gain_from_merging(node, community)\n",
    "                    if modularity_gain_from_merging > max_modularity_gain_from_merging:\n",
    "                        max_modularity_gain_from_merging = modularity_gain_from_merging\n",
    "                        community_to_join = community\n",
    "                # print(modularity_gain_from_isolating)\n",
    "                # print(max_modularity_gain_from_merging, community_to_join)\n",
    "                if modularity_gain_from_isolating > 0 and max_modularity_gain_from_merging <= 0:\n",
    "                    # only isolating! \n",
    "                    # print('isolating')\n",
    "                    self.Communities[node] = np.max(self.Communities) + 1\n",
    "                    change = True\n",
    "                elif modularity_gain_from_isolating + max_modularity_gain_from_merging > 0:\n",
    "                    # also max_modularity_gain_from_merging > 0\n",
    "                    # isolating and merging! \n",
    "                    # print('changing')\n",
    "                    # print(self.Communities)\n",
    "                    self.Communities[node] = community_to_join\n",
    "                    change = True\n",
    "                    # print(self.Communities)\n",
    "                else:\n",
    "                    # do nothing\n",
    "                    # print('do nothing')\n",
    "                    pass\n",
    "            \n",
    "            if not change:\n",
    "                break\n",
    "        self.rearrange_community()\n",
    "        return self.modularity()\n",
    "    \n",
    "    def community_aggregation(self):\n",
    "        \"\"\"\n",
    "        Phase 2: community aggregation\n",
    "        \"\"\"\n",
    "        self.rearrange_community()\n",
    "        n_c = np.max(self.Communities) + 1\n",
    "        if n_c == self.n:\n",
    "            return None, None, False\n",
    "        Edges = np.zeros((n_c, n_c), dtype=int)\n",
    "        for i in range(self.n):\n",
    "            for j in range(self.n):\n",
    "                c_i, c_j = self.community_of_node(i), self.community_of_node(j)\n",
    "                Edges[c_i, c_j] += self.Edges[i, j]\n",
    "        return Edges, self.Communities, True"
   ]
  },
  {
   "cell_type": "code",
   "execution_count": 234,
   "metadata": {},
   "outputs": [],
   "source": [
    "def genGraph(C=4):\n",
    "    Edges_cluster = np.ones((4, 4), dtype=int) - np.eye(4, dtype=int)\n",
    "    Edges = np.zeros((4*C, 4*C), dtype=int)\n",
    "    for i in range(C):\n",
    "        Edges[4*i:4*i+4, 4*i:4*i+4] = Edges_cluster\n",
    "        Edges[4*i+3, (4*i+4)%(4*C)] = 1\n",
    "        Edges[(4*i+4)%(4*C), 4*i+3] = 1\n",
    "    return Edges\n",
    "\n",
    "def genBlondelGraph():\n",
    "    Edges = np.zeros((16, 16), dtype=int)\n",
    "    Edges[0, (2, 3, 4, 5)] = 1\n",
    "    Edges[1, (2, 4, 7)] = 1\n",
    "    Edges[2, (0, 1, 4, 5, 6)] = 1\n",
    "    Edges[3, (0, 7)] = 1\n",
    "    Edges[4, (0, 1, 2, 10)] = 1\n",
    "    Edges[5, (0, 2, 7, 11)] = 1\n",
    "    Edges[6, (2, 7, 11)] = 1\n",
    "    Edges[7, (1, 3, 5, 6)] = 1\n",
    "    Edges[8, (9, 10, 11, 14, 15)] = 1\n",
    "    Edges[9, (8, 12, 14)] = 1\n",
    "    Edges[10, (4, 8, 11, 12, 13, 14)] = 1\n",
    "    Edges[11, (5, 6, 8, 10, 13)] = 1\n",
    "    Edges[12, (9, 10)] = 1\n",
    "    Edges[13, (10, 11)] = 1\n",
    "    Edges[14, (8, 9, 10)] = 1\n",
    "    Edges[15, (8)] = 1\n",
    "    return Edges"
   ]
  },
  {
   "cell_type": "code",
   "execution_count": 260,
   "metadata": {},
   "outputs": [],
   "source": [
    "Gsmall = genGraph(4)\n",
    "Gbig = genGraph(32)\n",
    "Gblondel = genBlondelGraph()"
   ]
  },
  {
   "cell_type": "markdown",
   "metadata": {},
   "source": [
    "## 3.2 Louvain algorithm on a 16 node network"
   ]
  },
  {
   "cell_type": "code",
   "execution_count": 281,
   "metadata": {},
   "outputs": [
    {
     "name": "stdout",
     "output_type": "stream",
     "text": [
      "Final Community Hierarchy, fine to coarse:\n",
      "[0 0 0 0 1 1 1 1 2 2 2 2 3 3 3 3] 0.6071428571428571\n"
     ]
    }
   ],
   "source": [
    "EdgesStack = [Gsmall]\n",
    "CommunitiesStack = []\n",
    "ModularityStack = []\n",
    "while True:\n",
    "    Edges = EdgesStack[-1]\n",
    "    Graph = LouvainGraph(Edges)\n",
    "    modularity = Graph.modularity_optimization(20)\n",
    "    Edges, Communities, new_graph_flag = Graph.community_aggregation()\n",
    "    if not new_graph_flag:\n",
    "        break\n",
    "    EdgesStack.append(Edges)\n",
    "    CommunitiesStack.append(Communities)\n",
    "    ModularityStack.append(modularity)\n",
    "\n",
    "print('Final Community Hierarchy, fine to coarse:')\n",
    "Community = CommunitiesStack[0]\n",
    "CommunitieHierarchy = [Community]\n",
    "print(Community, ModularityStack[0])\n",
    "for i in range(1, len(CommunitiesStack)):\n",
    "    Community = CommunitiesStack[i][Community]\n",
    "    CommunitieHierarchy.append(Community)\n",
    "    print(Community, ModularityStack[i])"
   ]
  },
  {
   "cell_type": "code",
   "execution_count": 283,
   "metadata": {},
   "outputs": [
    {
     "data": {
      "text/plain": [
       "[array([[0, 1, 1, 1, 0, 0, 0, 0, 0, 0, 0, 0, 0, 0, 0, 1],\n",
       "        [1, 0, 1, 1, 0, 0, 0, 0, 0, 0, 0, 0, 0, 0, 0, 0],\n",
       "        [1, 1, 0, 1, 0, 0, 0, 0, 0, 0, 0, 0, 0, 0, 0, 0],\n",
       "        [1, 1, 1, 0, 1, 0, 0, 0, 0, 0, 0, 0, 0, 0, 0, 0],\n",
       "        [0, 0, 0, 1, 0, 1, 1, 1, 0, 0, 0, 0, 0, 0, 0, 0],\n",
       "        [0, 0, 0, 0, 1, 0, 1, 1, 0, 0, 0, 0, 0, 0, 0, 0],\n",
       "        [0, 0, 0, 0, 1, 1, 0, 1, 0, 0, 0, 0, 0, 0, 0, 0],\n",
       "        [0, 0, 0, 0, 1, 1, 1, 0, 1, 0, 0, 0, 0, 0, 0, 0],\n",
       "        [0, 0, 0, 0, 0, 0, 0, 1, 0, 1, 1, 1, 0, 0, 0, 0],\n",
       "        [0, 0, 0, 0, 0, 0, 0, 0, 1, 0, 1, 1, 0, 0, 0, 0],\n",
       "        [0, 0, 0, 0, 0, 0, 0, 0, 1, 1, 0, 1, 0, 0, 0, 0],\n",
       "        [0, 0, 0, 0, 0, 0, 0, 0, 1, 1, 1, 0, 1, 0, 0, 0],\n",
       "        [0, 0, 0, 0, 0, 0, 0, 0, 0, 0, 0, 1, 0, 1, 1, 1],\n",
       "        [0, 0, 0, 0, 0, 0, 0, 0, 0, 0, 0, 0, 1, 0, 1, 1],\n",
       "        [0, 0, 0, 0, 0, 0, 0, 0, 0, 0, 0, 0, 1, 1, 0, 1],\n",
       "        [1, 0, 0, 0, 0, 0, 0, 0, 0, 0, 0, 0, 1, 1, 1, 0]]),\n",
       " array([[12,  1,  0,  1],\n",
       "        [ 1, 12,  1,  0],\n",
       "        [ 0,  1, 12,  1],\n",
       "        [ 1,  0,  1, 12]])]"
      ]
     },
     "execution_count": 283,
     "metadata": {},
     "output_type": "execute_result"
    }
   ],
   "source": [
    "EdgesStack"
   ]
  },
  {
   "cell_type": "markdown",
   "metadata": {},
   "source": [
    "- The weight of any edge between two distinct nodes in $H$ is 1. \n",
    "- The weight of any self.edge in $H$ is 12. \n",
    "- The modularity of $H$ is 0.607. "
   ]
  },
  {
   "cell_type": "code",
   "execution_count": 289,
   "metadata": {},
   "outputs": [
    {
     "name": "stdout",
     "output_type": "stream",
     "text": [
      "Edges:\n",
      "[[26  2]\n",
      " [ 2 26]]\n",
      "Communities:\n",
      "[0 1]\n",
      "0.42857142857142855\n"
     ]
    }
   ],
   "source": [
    "J = LouvainGraph(EdgesStack[-1], [0, 0, 1, 1])\n",
    "Edges, Communities, flag = J.community_aggregation()\n",
    "J = LouvainGraph(Edges)\n",
    "print(J)\n",
    "print(J.modularity())"
   ]
  },
  {
   "cell_type": "markdown",
   "metadata": {},
   "source": [
    "- The weight of any edge between two distinct nodes in $J$ is 2. \n",
    "- The weight of any self.edge in $J$ is 26. \n",
    "- The modularity of $H$ is 0.429. "
   ]
  },
  {
   "cell_type": "markdown",
   "metadata": {},
   "source": [
    "## 3.3 Louvain algorithm on a 128 node network"
   ]
  },
  {
   "cell_type": "code",
   "execution_count": 290,
   "metadata": {},
   "outputs": [
    {
     "name": "stdout",
     "output_type": "stream",
     "text": [
      "Final Community Hierarchy, fine to coarse:\n",
      "[ 0  0  0  0  1  1  1  1  2  2  2  2  3  3  3  3  4  4  4  4  5  5  5  5\n",
      "  6  6  6  6  7  7  7  7  8  8  8  8  9  9  9  9 10 10 10 10 11 11 11 11\n",
      " 12 12 12 12 13 13 13 13 14 14 14 14 15 15 15 15 16 16 16 16 17 17 17 17\n",
      " 18 18 18 18 19 19 19 19 20 20 20 20 21 21 21 21 22 22 22 22 23 23 23 23\n",
      " 24 24 24 24 25 25 25 25 26 26 26 26 27 27 27 27 28 28 28 28 29 29 29 29\n",
      " 30 30 30 30 31 31 31 31] 0.8258928571428571\n",
      "[ 0  0  0  0  0  0  0  0  1  1  1  1  1  1  1  1  2  2  2  2  2  2  2  2\n",
      "  3  3  3  3  3  3  3  3  4  4  4  4  4  4  4  4  5  5  5  5  5  5  5  5\n",
      "  6  6  6  6  6  6  6  6  7  7  7  7  7  7  7  7  8  8  8  8  8  8  8  8\n",
      "  9  9  9  9  9  9  9  9 10 10 10 10 10 10 10 10 11 11 11 11 11 11 11 11\n",
      " 12 12 12 12 12 12 12 12 13 13 13 13 13 13 13 13 14 14 14 14 14 14 14 14\n",
      " 15 15 15 15 15 15 15 15] 0.8660714285714286\n"
     ]
    }
   ],
   "source": [
    "EdgesStack = [Gbig]\n",
    "CommunitiesStack = []\n",
    "ModularityStack = []\n",
    "while True:\n",
    "    Edges = EdgesStack[-1]\n",
    "    Graph = LouvainGraph(Edges)\n",
    "    modularity = Graph.modularity_optimization(20)\n",
    "    Edges, Communities, new_graph_flag = Graph.community_aggregation()\n",
    "    if not new_graph_flag:\n",
    "        break\n",
    "    EdgesStack.append(Edges)\n",
    "    CommunitiesStack.append(Communities)\n",
    "    ModularityStack.append(modularity)\n",
    "\n",
    "print('Final Community Hierarchy, fine to coarse:')\n",
    "Community = CommunitiesStack[0]\n",
    "CommunitieHierarchy = [Community]\n",
    "print(Community, ModularityStack[0])\n",
    "for i in range(1, len(CommunitiesStack)):\n",
    "    Community = CommunitiesStack[i][Community]\n",
    "    CommunitieHierarchy.append(Community)\n",
    "    print(Community, ModularityStack[i])"
   ]
  },
  {
   "cell_type": "code",
   "execution_count": 291,
   "metadata": {},
   "outputs": [
    {
     "data": {
      "text/plain": [
       "array([[12,  1,  0, ...,  0,  0,  1],\n",
       "       [ 1, 12,  1, ...,  0,  0,  0],\n",
       "       [ 0,  1, 12, ...,  0,  0,  0],\n",
       "       ...,\n",
       "       [ 0,  0,  0, ..., 12,  1,  0],\n",
       "       [ 0,  0,  0, ...,  1, 12,  1],\n",
       "       [ 1,  0,  0, ...,  0,  1, 12]])"
      ]
     },
     "execution_count": 291,
     "metadata": {},
     "output_type": "execute_result"
    }
   ],
   "source": [
    "EdgesStack[1]"
   ]
  },
  {
   "cell_type": "markdown",
   "metadata": {},
   "source": [
    "- The weight of any edge between two distinct nodes in $H_{big}$ is 1. \n",
    "- The weight of any self.edge in $H_{big}$ is 12. \n",
    "- The modularity of $H_{big}$ is 0.826. "
   ]
  },
  {
   "cell_type": "code",
   "execution_count": 292,
   "metadata": {},
   "outputs": [
    {
     "data": {
      "text/plain": [
       "array([[26,  1,  0,  0,  0,  0,  0,  0,  0,  0,  0,  0,  0,  0,  0,  1],\n",
       "       [ 1, 26,  1,  0,  0,  0,  0,  0,  0,  0,  0,  0,  0,  0,  0,  0],\n",
       "       [ 0,  1, 26,  1,  0,  0,  0,  0,  0,  0,  0,  0,  0,  0,  0,  0],\n",
       "       [ 0,  0,  1, 26,  1,  0,  0,  0,  0,  0,  0,  0,  0,  0,  0,  0],\n",
       "       [ 0,  0,  0,  1, 26,  1,  0,  0,  0,  0,  0,  0,  0,  0,  0,  0],\n",
       "       [ 0,  0,  0,  0,  1, 26,  1,  0,  0,  0,  0,  0,  0,  0,  0,  0],\n",
       "       [ 0,  0,  0,  0,  0,  1, 26,  1,  0,  0,  0,  0,  0,  0,  0,  0],\n",
       "       [ 0,  0,  0,  0,  0,  0,  1, 26,  1,  0,  0,  0,  0,  0,  0,  0],\n",
       "       [ 0,  0,  0,  0,  0,  0,  0,  1, 26,  1,  0,  0,  0,  0,  0,  0],\n",
       "       [ 0,  0,  0,  0,  0,  0,  0,  0,  1, 26,  1,  0,  0,  0,  0,  0],\n",
       "       [ 0,  0,  0,  0,  0,  0,  0,  0,  0,  1, 26,  1,  0,  0,  0,  0],\n",
       "       [ 0,  0,  0,  0,  0,  0,  0,  0,  0,  0,  1, 26,  1,  0,  0,  0],\n",
       "       [ 0,  0,  0,  0,  0,  0,  0,  0,  0,  0,  0,  1, 26,  1,  0,  0],\n",
       "       [ 0,  0,  0,  0,  0,  0,  0,  0,  0,  0,  0,  0,  1, 26,  1,  0],\n",
       "       [ 0,  0,  0,  0,  0,  0,  0,  0,  0,  0,  0,  0,  0,  1, 26,  1],\n",
       "       [ 1,  0,  0,  0,  0,  0,  0,  0,  0,  0,  0,  0,  0,  0,  1, 26]])"
      ]
     },
     "execution_count": 292,
     "metadata": {},
     "output_type": "execute_result"
    }
   ],
   "source": [
    "EdgesStack[2]"
   ]
  },
  {
   "cell_type": "markdown",
   "metadata": {},
   "source": [
    "- The weight of any edge between two distinct nodes in $J_{big}$ is 1. \n",
    "- The weight of any self.edge in $J_{big}$ is 26. \n",
    "- The modularity of $J_{big}$ is 0.866. "
   ]
  },
  {
   "cell_type": "markdown",
   "metadata": {},
   "source": [
    "区别在于每一个2\\*2方块非对角线的元素\n",
    "随着图的尺寸增大， Adjacency Matrix中非self loop对modularity的贡献是1/n，但expected对modularity的贡献是是1/n^2  \n",
    "当2m足够大的时候，就有adjacency matrix的对应元素大于expected，因此加入这些元素可以提升modularity"
   ]
  },
  {
   "cell_type": "markdown",
   "metadata": {},
   "source": [
    "1/2m v.s. d_i d_j / 2m^2"
   ]
  },
  {
   "cell_type": "code",
   "execution_count": null,
   "metadata": {},
   "outputs": [],
   "source": []
  }
 ],
 "metadata": {
  "kernelspec": {
   "display_name": "snap",
   "language": "python",
   "name": "snap"
  },
  "language_info": {
   "codemirror_mode": {
    "name": "ipython",
    "version": 3
   },
   "file_extension": ".py",
   "mimetype": "text/x-python",
   "name": "python",
   "nbconvert_exporter": "python",
   "pygments_lexer": "ipython3",
   "version": "3.7.9"
  }
 },
 "nbformat": 4,
 "nbformat_minor": 4
}
