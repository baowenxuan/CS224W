{
 "cells": [
  {
   "cell_type": "markdown",
   "metadata": {},
   "source": [
    "# 2 Structural Roles: Rolx and ReFex"
   ]
  },
  {
   "cell_type": "code",
   "execution_count": 2,
   "metadata": {},
   "outputs": [],
   "source": [
    "import snap\n",
    "import numpy as np\n",
    "import matplotlib.pyplot as plt"
   ]
  },
  {
   "cell_type": "markdown",
   "metadata": {},
   "source": [
    "## 2.0 Loading Graph"
   ]
  },
  {
   "cell_type": "code",
   "execution_count": 4,
   "metadata": {},
   "outputs": [],
   "source": [
    "G = snap.TUNGraph.Load(snap.TFIn('hw1-q2.graph'))"
   ]
  },
  {
   "cell_type": "code",
   "execution_count": 11,
   "metadata": {},
   "outputs": [
    {
     "name": "stdout",
     "output_type": "stream",
     "text": [
      "Number of nodes: 1589\n",
      "Number of edges: 2742\n"
     ]
    }
   ],
   "source": [
    "print('Number of nodes:', G.GetNodes())\n",
    "print('Number of edges:', G.GetEdges())"
   ]
  },
  {
   "cell_type": "markdown",
   "metadata": {},
   "source": [
    "Node Ids are natually 0 - 1588"
   ]
  },
  {
   "cell_type": "markdown",
   "metadata": {},
   "source": [
    "## 2.1 Basic Features"
   ]
  },
  {
   "cell_type": "code",
   "execution_count": 177,
   "metadata": {},
   "outputs": [],
   "source": [
    "def BasicFeature(Graph):\n",
    "    N, E = Graph.GetNodes(), Graph.GetEdges()\n",
    "    V = np.zeros((N, 3), dtype=int)\n",
    "    # degree \n",
    "    for node in Graph.Nodes():\n",
    "        V[node.GetId(), 0] = node.GetDeg()\n",
    "        \n",
    "    # #Edges in the egonet \n",
    "    # #Edges that connect the egonet and the rest of the graph\n",
    "    # It is obvious that #interedges + #infraedges * 2 = sum(node degree for node in egonet). \n",
    "    for node in Graph.Nodes():\n",
    "        node_id = node.GetId()\n",
    "        egonet_ids = snap.TIntV()\n",
    "        egonet_ids.Add(node_id)\n",
    "        for i in range(node.GetDeg()):\n",
    "            egonet_ids.Add(node.GetNbrNId(i))\n",
    "        egonet = snap.GetSubGraph(Graph, egonet_ids)\n",
    "        V[node_id, 1] = egonet.GetEdges()\n",
    "        V[node_id, 2] = np.sum([V[egonet_id, 0] for egonet_id in egonet_ids]) - 2 * V[node_id, 1]\n",
    "        \n",
    "    return V.astype(float)"
   ]
  },
  {
   "cell_type": "code",
   "execution_count": 180,
   "metadata": {},
   "outputs": [
    {
     "name": "stdout",
     "output_type": "stream",
     "text": [
      "[[ 2.  3.  1.]\n",
      " [ 3.  4.  0.]\n",
      " [ 4. 10.  0.]\n",
      " ...\n",
      " [ 1.  1.  1.]\n",
      " [ 1.  1.  1.]\n",
      " [ 2.  3. 10.]]\n"
     ]
    }
   ],
   "source": [
    "V = BasicFeature(G)\n",
    "print(V)"
   ]
  },
  {
   "cell_type": "markdown",
   "metadata": {},
   "source": [
    "Similarity"
   ]
  },
  {
   "cell_type": "code",
   "execution_count": 181,
   "metadata": {},
   "outputs": [
    {
     "name": "stderr",
     "output_type": "stream",
     "text": [
      "/home/ubuntu/anaconda3/envs/snap/lib/python3.7/site-packages/ipykernel_launcher.py:3: RuntimeWarning: invalid value encountered in true_divide\n",
      "  This is separate from the ipykernel package so we can avoid doing imports until\n"
     ]
    }
   ],
   "source": [
    "# compute similarity matrix\n",
    "V_norm=np.linalg.norm(V, axis=1, keepdims=True)\n",
    "Sim = np.matmul(V, np.transpose(V)) / V_norm / np.transpose(V_norm)\n",
    "Sim[np.isnan(Sim)] = 0"
   ]
  },
  {
   "cell_type": "code",
   "execution_count": 182,
   "metadata": {},
   "outputs": [
    {
     "name": "stdout",
     "output_type": "stream",
     "text": [
      "Top 5 nodes that are most similar to node 9:\n",
      "Node  415:   0.999616\n",
      "Node  286:   0.996344\n",
      "Node  288:   0.996344\n",
      "Node 1336:   0.996118\n",
      "Node 1054:   0.996118\n"
     ]
    }
   ],
   "source": [
    "indices = list(np.argsort(Sim[9, :]))\n",
    "print('Top 5 nodes that are most similar to node 9:')\n",
    "# indices[-1] = 9\n",
    "for i in range(-2, -7, -1):\n",
    "    print('Node %4d:   %.6f' % (indices[i], Sim[9, indices[i]]))"
   ]
  },
  {
   "cell_type": "markdown",
   "metadata": {},
   "source": [
    "## 2.2 Recursive Feature"
   ]
  },
  {
   "cell_type": "code",
   "execution_count": 183,
   "metadata": {},
   "outputs": [],
   "source": [
    "def RecursiveFeature(Graph, BasicFeature, K=2):\n",
    "    V = BasicFeature\n",
    "    for i in range(K):\n",
    "        V_mean = np.zeros_like(V)\n",
    "        V_sum = np.zeros_like(V)\n",
    "        for node in Graph.Nodes():\n",
    "            node_id = node.GetId()\n",
    "            degree = node.GetDeg()\n",
    "            if degree == 0:\n",
    "                continue\n",
    "            for i in range(node.GetDeg()):\n",
    "                V_sum[node_id, :] += V[node.GetNbrNId(i), :]\n",
    "            V_mean[node_id, :] = V_sum[node_id, :] / V[node_id, 0]\n",
    "        V = np.hstack([V, V_mean, V_sum])\n",
    "    return V"
   ]
  },
  {
   "cell_type": "code",
   "execution_count": 185,
   "metadata": {},
   "outputs": [
    {
     "name": "stdout",
     "output_type": "stream",
     "text": [
      "[[  2.   3.   1. ...  10.  14.   5.]\n",
      " [  3.   4.   0. ...  13.  18.   2.]\n",
      " [  4.  10.   0. ...  64. 160.   0.]\n",
      " ...\n",
      " [  1.   1.   1. ...   2.   2.   2.]\n",
      " [  1.   1.   1. ...   2.   2.   2.]\n",
      " [  2.   3.  10. ...  52. 105. 111.]]\n"
     ]
    }
   ],
   "source": [
    "V2 = RecursiveFeature(G, V, K=2)\n",
    "print(V2)"
   ]
  },
  {
   "cell_type": "code",
   "execution_count": 187,
   "metadata": {},
   "outputs": [
    {
     "name": "stderr",
     "output_type": "stream",
     "text": [
      "/home/ubuntu/anaconda3/envs/snap/lib/python3.7/site-packages/ipykernel_launcher.py:2: RuntimeWarning: invalid value encountered in true_divide\n",
      "  \n"
     ]
    },
    {
     "data": {
      "text/plain": [
       "array([0.90522736, 0.94258066, 0.90975982, ..., 0.64500737, 0.64500737,\n",
       "       0.83365497])"
      ]
     },
     "execution_count": 187,
     "metadata": {},
     "output_type": "execute_result"
    }
   ],
   "source": [
    "V2_norm=np.linalg.norm(V2, axis=1, keepdims=True)\n",
    "Sim2 = np.matmul(V2, np.transpose(V2)) / V2_norm / np.transpose(V2_norm)\n",
    "Sim2[np.isnan(Sim2)] = 0\n",
    "Sim2[9, :]"
   ]
  },
  {
   "cell_type": "code",
   "execution_count": 189,
   "metadata": {},
   "outputs": [
    {
     "name": "stdout",
     "output_type": "stream",
     "text": [
      "Top 5 nodes that are most similar to node 9:\n",
      "Node  973:   0.995985\n",
      "Node  537:   0.994613\n",
      "Node  415:   0.993728\n",
      "Node  496:   0.992284\n",
      "Node   25:   0.992241\n"
     ]
    }
   ],
   "source": [
    "indices = list(np.argsort(Sim2[9, :]))\n",
    "print('Top 5 nodes that are most similar to node 9:')\n",
    "# indices[-1] = 9\n",
    "for i in range(-2, -7, -1):\n",
    "    print('Node %4d:   %.6f' % (indices[i], Sim2[9, indices[i]]))"
   ]
  },
  {
   "cell_type": "markdown",
   "metadata": {},
   "source": [
    "It changes a lot! Node 415 is the only common node. \\\n",
    "The results are different because we use different feature set. In particular, V2 use multi-hop informations, while V0 use only the local information within the egonet. "
   ]
  },
  {
   "cell_type": "markdown",
   "metadata": {},
   "source": [
    "## 2.3 Role Discovery"
   ]
  },
  {
   "cell_type": "markdown",
   "metadata": {},
   "source": [
    "Histogram of cosine similarities"
   ]
  },
  {
   "cell_type": "code",
   "execution_count": 191,
   "metadata": {},
   "outputs": [
    {
     "data": {
      "image/png": "[encoded data removed]",
      "text/plain": [
       "<Figure size 432x288 with 1 Axes>"
      ]
     },
     "metadata": {
      "needs_background": "light"
     },
     "output_type": "display_data"
    }
   ],
   "source": [
    "plt.hist(Sim2[9, :], bins=20)\n",
    "plt.show()"
   ]
  },
  {
   "cell_type": "markdown",
   "metadata": {},
   "source": [
    "There are about 3 roles: one around zero similarity (which has a degree of zero), one around 0.6, and one around 0.9"
   ]
  },
  {
   "cell_type": "code",
   "execution_count": null,
   "metadata": {},
   "outputs": [],
   "source": []
  }
 ],
 "metadata": {
  "kernelspec": {
   "display_name": "snap",
   "language": "python",
   "name": "snap"
  },
  "language_info": {
   "codemirror_mode": {
    "name": "ipython",
    "version": 3
   },
   "file_extension": ".py",
   "mimetype": "text/x-python",
   "name": "python",
   "nbconvert_exporter": "python",
   "pygments_lexer": "ipython3",
   "version": "3.7.9"
  }
 },
 "nbformat": 4,
 "nbformat_minor": 4
}
