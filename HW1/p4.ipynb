{
 "cells": [
  {
   "cell_type": "markdown",
   "metadata": {},
   "source": [
    "# 4 Spectral clustering"
   ]
  },
  {
   "cell_type": "markdown",
   "metadata": {},
   "source": [
    "## 4.1. "
   ]
  },
  {
   "cell_type": "markdown",
   "metadata": {},
   "source": [
    "1 \n",
    "$$\n",
    "\\begin{aligned}\n",
    "\\sum_{(i, j) \\in \\boldsymbol E} (e_i - e_j)(e_i - e_j)^T \n",
    "&= \\sum_{(i, j) \\in \\boldsymbol E} e_ie_i^T + e_je_j^T - e_ie_j^T - e_je_i^T \\\\\n",
    "&= \\sum_{(i, j) \\in \\boldsymbol E} (e_ie_i^T + e_je_j^T) - \\sum_{(i, j) \\in \\boldsymbol E} (e_ie_j^T + e_je_i^T) \\\\\n",
    "&= D - A = L\n",
    "\\end{aligned}\n",
    "$$\n"
   ]
  },
  {
   "cell_type": "markdown",
   "metadata": {},
   "source": [
    "2  \n",
    "$$\n",
    "\\begin{aligned}\n",
    "x^T L x &= x^T \\left[\\sum_{(i, j) \\in \\boldsymbol E} (e_i - e_j)(e_i - e_j)^T\\right] x \\\\\n",
    "&= \\sum_{(i, j) \\in \\boldsymbol E} x^T(e_i - e_j)(e_i - e_j)^Tx \\\\\n",
    "&= \\sum_{(i, j) \\in \\boldsymbol E} (x_i - x_j)(x_i - x_j) \\\\\n",
    "&= \\sum_{(i, j) \\in \\boldsymbol E} (x_i - x_j)^2\n",
    "\\end{aligned}\n",
    "$$"
   ]
  },
  {
   "cell_type": "markdown",
   "metadata": {},
   "source": [
    "3  \n",
    "$$\n",
    "\\begin{aligned}\n",
    "x^T L x &= \\sum_{(i, j) \\in \\boldsymbol E} (x_i - x_j)^2 \\\\\n",
    "&= \\text{cut}(S) \\left[ \\sqrt{\\frac{\\text{vol}(\\bar S)}{\\text{vol}(S)}} + \\sqrt{\\frac{\\text{vol}(S)}{\\text{vol}(\\bar S)}} \\right]^2 \\\\\n",
    "&= \\text{cut}(S) \\frac{[\\text{vol}(S) + \\text{vol}(\\bar S)]^2}{\\text{vol}(S)\\text{vol}(\\bar S)} \\\\\n",
    "&= [\\text{vol}(S) + \\text{vol}(\\bar S)]\\text{NCUT}(S) \\\\\n",
    "&= 2m \\text{ NCUT}(S)\n",
    "\\end{aligned}\n",
    "$$  \n",
    "Note that $2m$ is the sum of degrees of all nodes in the graph, which is a constant. "
   ]
  },
  {
   "cell_type": "markdown",
   "metadata": {},
   "source": [
    "4\n",
    "$$\n",
    "\\begin{aligned}\n",
    "x^T D e &= \\sum_{i \\in S} \\sqrt{\\frac{\\text{vol}(\\bar S)}{\\text{vol}(S)}} d_i + \\sum_{i \\in \\bar S} -\\sqrt{\\frac{\\text{vol}(S)}{\\text{vol}(\\bar S)}} d_i \\\\\n",
    "&= \\sqrt{\\frac{\\text{vol}(\\bar S)}{\\text{vol}(S)}} \\text{vol}(S) - \\sqrt{\\frac{\\text{vol}(S)}{\\text{vol}(\\bar S)}} \\text{vol}(\\bar S) \\\\\n",
    "&= \\sqrt{\\text{vol}(\\bar S) \\text{vol}(S)} - \\sqrt{\\text{vol}(S) \\text{vol}(\\bar S)} \\\\\n",
    "&= 0\n",
    "\\end{aligned}\n",
    "$$"
   ]
  },
  {
   "cell_type": "markdown",
   "metadata": {},
   "source": [
    "5\n",
    "$$\n",
    "\\begin{aligned}\n",
    "x^T D x &= \\sum_{i \\in S} \\frac{\\text{vol}(\\bar S)}{\\text{vol}(S)} d_i + \\sum_{i \\in \\bar S} + \\frac{\\text{vol}(S)}{\\text{vol}(\\bar S)} d_i \\\\\n",
    "&= \\frac{\\text{vol}(\\bar S)}{\\text{vol}(S)} \\text{vol}(S) + \\frac{\\text{vol}(S)}{\\text{vol}(\\bar S)} \\text{vol}(\\bar S) \\\\\n",
    "&= \\text{vol}(\\bar S) + \\text{vol}(S) \\\\\n",
    "&= 2m\n",
    "\\end{aligned}\n",
    "$$"
   ]
  },
  {
   "cell_type": "markdown",
   "metadata": {},
   "source": [
    "## 4.2. "
   ]
  },
  {
   "cell_type": "markdown",
   "metadata": {},
   "source": [
    "Let $z = D^{\\frac{1}{2}} x$, then the problem become\n",
    "$$\n",
    "\\begin{aligned}\n",
    "\\underset{z \\in \\mathbb{R}^{n}}{\\operatorname{minimize}}\\quad & \\frac{z^{T} D^{-\\frac{1}{2}} L D^{-\\frac{1}{2}} z}{z^T z} \\\\\n",
    "\\text { subject to}\\quad & z^{T} D^{\\frac{1}{2}} e=0, z^{T} z=2 m\n",
    "\\end{aligned}\n",
    "$$"
   ]
  },
  {
   "cell_type": "markdown",
   "metadata": {},
   "source": [
    "Apply spectral decomposition (eigendecomposition) to the symmetric matrix $\\tilde L = D^{-\\frac{1}{2}} L D^{-\\frac{1}{2}} $, we can get its eigenvalues $0 \\leq \\lambda_1 \\leq \\lambda_2 \\leq \\cdots \\leq \\lambda_n$, and corresponding eigenvectors $v_1, v_2, \\cdots, v_n$, where $n$ is the number of nodes in the graph.   \n",
    "\n",
    "Then we got $\\tilde L = \\sum_{i=1}^n \\lambda_i v_i v_i^T$, $z = \\sum_{i=1}^n k_i v_i$. \n",
    "\n",
    "What is more, note that $D^{\\frac{1}{2}}e$ is an eigenvector of $\\tilde L$ with eigenvalue 0: \n",
    "$$\n",
    "\\tilde L D^{\\frac{1}{2}}e = D^{-\\frac{1}{2}} L e = D^{-\\frac{1}{2}}\\boldsymbol 0 = \\boldsymbol 0\n",
    "$$\n",
    "\n",
    "Plug these into the formula above, the problem become: \n",
    "$$\n",
    "\\begin{aligned}\n",
    "\\underset{z \\in \\mathbb{R}^{n}}{\\operatorname{minimize}}\\quad & \\frac{\\left(\\sum_{i=1}^n k_i v_i\\right) \\left(\\sum_{i=1}^n \\lambda_i v_i v_i^T \\right)\\left(\\sum_{i=1}^n k_i v_i^T\\right)}{\\left(\\sum_{i=1}^n k_i v_i^T\\right) \\left(\\sum_{i=1}^n k_i v_i\\right) } \\\\\n",
    "=& \\frac{\\sum_{i=1}^n\\lambda_i k_i^2}{\\sum_{i=1}^n k_i^2} \\\\\n",
    "\\text { subject to}\\quad & k_1=0, \\sum_{i=1}^n k_i^2=2 m\n",
    "\\end{aligned}\n",
    "$$\n"
   ]
  },
  {
   "cell_type": "markdown",
   "metadata": {},
   "source": [
    "It is easy to get that when $k_2 = \\sqrt{2m}, k_3 = k_4 = \\cdots = k_n = 0$, the objective funtion is minimized. Which means that $z$ is the second eigenvector. Then\n",
    "$$\n",
    "x = D^{-\\frac{1}{2}}z \\sim D^{-\\frac{1}{2}}v_2\n",
    "$$"
   ]
  },
  {
   "cell_type": "markdown",
   "metadata": {},
   "source": [
    "## 4.3. "
   ]
  },
  {
   "cell_type": "markdown",
   "metadata": {},
   "source": [
    "$$\n",
    "\\begin{aligned}\n",
    "Q(y) &= \\frac{1}{2 m} \\sum_{1 \\leq i, j \\leq n}\\left[A_{i j}-\\frac{d_{i} d_{j}}{2 m}\\right] I_{y_{i}=y_{j}} \\\\\n",
    "&= \\frac{1}{2 m}\\sum_{1 \\leq i, j \\leq n}A_{i j} I_{y_{i}=y_{j}} - \\frac{1}{4 m^2} \\sum_{1 \\leq i, j \\leq n}d_i d_jI_{y_{i}=y_{j}} \\\\\n",
    "\\end{aligned}\n",
    "$$"
   ]
  },
  {
   "cell_type": "markdown",
   "metadata": {},
   "source": [
    "The left term: \n",
    "$$\n",
    "\\begin{aligned}\n",
    "\\sum_{1 \\leq i, j \\leq n}A_{i j} I_{y_{i}=y_{j}} &= \\sum_{1 \\leq i, j \\leq n}A_{i j} - \\sum_{1 \\leq i, j \\leq n}A_{i j} I_{y_{i}\\neq y_{j}} \\\\\n",
    "&= 2m - 2 \\text{cut}(S)\n",
    "\\end{aligned}\n",
    "$$"
   ]
  },
  {
   "cell_type": "markdown",
   "metadata": {},
   "source": [
    "The right term: \n",
    "$$\n",
    "\\begin{aligned}\n",
    "\\sum_{1 \\leq i, j \\leq n}d_i d_jI_{y_{i}=y_{j}} &= \\sum_{i\\in S, j\\in S }d_i d_j + \\sum_{i\\in \\bar S, j\\in \\bar S }d_i d_j \\\\\n",
    "&= \\left(\\sum_{i\\in S, j\\in S } d_j\\right)^2 + \\left(\\sum_{i\\in \\bar S, j\\in \\bar S } d_j\\right)^2 \\\\\n",
    "&= \\text{vol}(S)^2 + \\text{vol}(\\bar S)^2 \\\\\n",
    "&= \\left[\\text{vol}(S) + \\text{vol}(\\bar S)\\right]^2 - 2\\text{vol}(S)\\text{vol}(\\bar S) \\\\\n",
    "&= (2m)^2 - 2\\text{vol}(S)\\text{vol}(\\bar S) \n",
    "\\end{aligned}\n",
    "$$"
   ]
  },
  {
   "cell_type": "markdown",
   "metadata": {},
   "source": [
    "Plug them into the original formula: \n",
    "$$\n",
    "\\begin{aligned}\n",
    "Q(y) &= \\frac{1}{2 m}\\sum_{1 \\leq i, j \\leq n}A_{i j} I_{y_{i}=y_{j}} - \\frac{1}{4 m^2} \\sum_{1 \\leq i, j \\leq n}d_i d_jI_{y_{i}=y_{j}} \\\\\n",
    "&= \\frac{1}{2 m} \\left[2m - 2 \\text{cut}(S) -2m + \\frac{1}{m}\\text{vol}(S)\\text{vol}(\\bar S)  \\right] \\\\\n",
    "&= \\frac{1}{2 m} \\left[- 2 \\text{cut}(S) + \\frac{1}{m}\\text{vol}(S)\\text{vol}(\\bar S)  \\right] \n",
    "\\end{aligned}\n",
    "$$"
   ]
  },
  {
   "cell_type": "code",
   "execution_count": null,
   "metadata": {},
   "outputs": [],
   "source": []
  }
 ],
 "metadata": {
  "kernelspec": {
   "display_name": "snap",
   "language": "python",
   "name": "snap"
  },
  "language_info": {
   "codemirror_mode": {
    "name": "ipython",
    "version": 3
   },
   "file_extension": ".py",
   "mimetype": "text/x-python",
   "name": "python",
   "nbconvert_exporter": "python",
   "pygments_lexer": "ipython3",
   "version": "3.7.9"
  }
 },
 "nbformat": 4,
 "nbformat_minor": 4
}
