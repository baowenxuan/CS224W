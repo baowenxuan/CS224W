{
 "cells": [
  {
   "cell_type": "markdown",
   "metadata": {},
   "source": []
  },
  {
   "cell_type": "markdown",
   "metadata": {},
   "source": [
    "## 1. "
   ]
  },
  {
   "cell_type": "markdown",
   "metadata": {},
   "source": [
    "1 Obviously"
   ]
  },
  {
   "cell_type": "markdown",
   "metadata": {},
   "source": [
    "2  \n",
    "$$\n",
    "\\begin{aligned}\n",
    "x^T L x &= x^T \\left[\\sum_{(i, j) \\in \\boldsymbol E} (e_i - e_j)(e_i - e_j)^T\\right] x \\\\\n",
    "&= \\sum_{(i, j) \\in \\boldsymbol E} x^T(e_i - e_j)(e_i - e_j)^Tx \\\\\n",
    "&= \\sum_{(i, j) \\in \\boldsymbol E} (x_i - x_j)(x_i - x_j) \\\\\n",
    "&= \\sum_{(i, j) \\in \\boldsymbol E} (x_i - x_j)^2\n",
    "\\end{aligned}\n",
    "$$"
   ]
  },
  {
   "cell_type": "markdown",
   "metadata": {},
   "source": [
    "3  \n",
    "$$\n",
    "\\begin{aligned}\n",
    "x^T L x &= \\sum_{(i, j) \\in \\boldsymbol E} (x_i - x_j)^2 \\\\\n",
    "&= \\text{cut}(S) \\left[ \\sqrt{\\frac{\\text{vol}(\\bar S)}{\\text{vol}(S)}} + \\sqrt{\\frac{\\text{vol}(S)}{\\text{vol}(\\bar S)}} \\right]^2 \\\\\n",
    "&= \\text{cut}(S) \\frac{[\\text{vol}(S) + \\text{vol}(\\bar S)]^2}{\\text{vol}(S)\\text{vol}(\\bar S)} \\\\\n",
    "&= [\\text{vol}(S) + \\text{vol}(\\bar S)]\\text{NCUT}(S) \\\\\n",
    "&= 2m \\text{ NCUT}(S)\n",
    "\\end{aligned}\n",
    "$$  \n",
    "Note that $2m$ is the sum of degrees of all nodes in the graph, which is a constant. "
   ]
  },
  {
   "cell_type": "markdown",
   "metadata": {},
   "source": [
    "4\n",
    "$$\n",
    "\\begin{aligned}\n",
    "x^T D e &= \\sum_{i \\in S} \\sqrt{\\frac{\\text{vol}(\\bar S)}{\\text{vol}(S)}} d_i + \\sum_{i \\in \\bar S} -\\sqrt{\\frac{\\text{vol}(S)}{\\text{vol}(\\bar S)}} d_i \\\\\n",
    "&= \\sqrt{\\frac{\\text{vol}(\\bar S)}{\\text{vol}(S)}} \\text{vol}(S) - \\sqrt{\\frac{\\text{vol}(S)}{\\text{vol}(\\bar S)}} \\text{vol}(\\bar S) \\\\\n",
    "&= \\sqrt{\\text{vol}(\\bar S) \\text{vol}(S)} - \\sqrt{\\text{vol}(S) \\text{vol}(\\bar S)} \\\\\n",
    "&= 0\n",
    "\\end{aligned}\n",
    "$$"
   ]
  },
  {
   "cell_type": "markdown",
   "metadata": {},
   "source": [
    "5\n",
    "$$\n",
    "\\begin{aligned}\n",
    "x^T D x &= \\sum_{i \\in S} \\frac{\\text{vol}(\\bar S)}{\\text{vol}(S)} d_i + \\sum_{i \\in \\bar S} + \\frac{\\text{vol}(S)}{\\text{vol}(\\bar S)} d_i \\\\\n",
    "&= 0\n",
    "\\end{aligned}\n",
    "$$"
   ]
  },
  {
   "cell_type": "code",
   "execution_count": null,
   "metadata": {},
   "outputs": [],
   "source": []
  },
  {
   "cell_type": "code",
   "execution_count": null,
   "metadata": {},
   "outputs": [],
   "source": []
  }
 ],
 "metadata": {
  "kernelspec": {
   "display_name": "snap",
   "language": "python",
   "name": "snap"
  },
  "language_info": {
   "codemirror_mode": {
    "name": "ipython",
    "version": 3
   },
   "file_extension": ".py",
   "mimetype": "text/x-python",
   "name": "python",
   "nbconvert_exporter": "python",
   "pygments_lexer": "ipython3",
   "version": "3.7.9"
  }
 },
 "nbformat": 4,
 "nbformat_minor": 4
}
