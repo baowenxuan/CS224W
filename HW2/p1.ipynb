{
 "cells": [
  {
   "cell_type": "markdown",
   "metadata": {},
   "source": [
    "# 1. Node Classification"
   ]
  },
  {
   "cell_type": "code",
   "execution_count": 1,
   "metadata": {},
   "outputs": [],
   "source": [
    "import snap\n",
    "import numpy as np"
   ]
  },
  {
   "cell_type": "markdown",
   "metadata": {},
   "source": [
    "## 1.1 Relational Classification"
   ]
  },
  {
   "cell_type": "code",
   "execution_count": 2,
   "metadata": {},
   "outputs": [],
   "source": [
    "# Generating Graph Structure\n",
    "G = snap.TUNGraph.New()\n",
    "# Add Nodes\n",
    "for i in range(10):\n",
    "    G.AddNode(i+1)\n",
    "# Add Edges\n",
    "Edges = [(1, 2), (1, 3), (2, 3), (2, 4), (3, 6), (4, 7), (4, 8), \n",
    "         (5, 6), (5, 8), (5, 9), (6, 9), (6, 10), (7, 8), (8, 9), (9, 10)]\n",
    "for src, dst in Edges:\n",
    "    G.AddEdge(src, dst)"
   ]
  },
  {
   "cell_type": "code",
   "execution_count": 3,
   "metadata": {},
   "outputs": [],
   "source": [
    "# Generating label and flag vectors: \n",
    "# labels: probability that the node is positive\n",
    "# flags: whether the label is ground truth (True) or prediction (False):\n",
    "labels = [None, 0.5, 0.5, 1, 0.5, 1, 0.5, 0.5, 0, 0.5, 0]\n",
    "flags = [None, False, False, True, False, True, False, False, True, False, True]"
   ]
  },
  {
   "cell_type": "code",
   "execution_count": 4,
   "metadata": {},
   "outputs": [],
   "source": [
    "# Iterate\n",
    "maxIter = 2\n",
    "for epoch in range(maxIter):\n",
    "    for node in G.Nodes():\n",
    "        node_id = node.GetId()\n",
    "        if flags[node_id]:  # is ground truth\n",
    "            continue  # do not update\n",
    "        \n",
    "        neighbors = [node.GetNbrNId(i) for i in range(node.GetDeg())]\n",
    "        neighbors_labels = [labels[n] for n in neighbors]\n",
    "        labels[node_id] = np.mean(neighbors_labels)"
   ]
  },
  {
   "cell_type": "markdown",
   "metadata": {},
   "source": [
    "(i) After the second iteration, $P(Y_i = +)$ for $i = 2, 4, 6$"
   ]
  },
  {
   "cell_type": "code",
   "execution_count": 5,
   "metadata": {},
   "outputs": [
    {
     "name": "stdout",
     "output_type": "stream",
     "text": [
      "0.7638888888888888 0.32407407407407407 0.6015625\n"
     ]
    }
   ],
   "source": [
    "print(labels[2], labels[4], labels[6])"
   ]
  },
  {
   "cell_type": "markdown",
   "metadata": {},
   "source": [
    "(ii) final state"
   ]
  },
  {
   "cell_type": "code",
   "execution_count": 6,
   "metadata": {},
   "outputs": [],
   "source": [
    "# Keep Iterating for another 10 epochs\n",
    "# Iterate\n",
    "maxIter = 10\n",
    "for epoch in range(maxIter):\n",
    "    for node in G.Nodes():\n",
    "        node_id = node.GetId()\n",
    "        if flags[node_id]:  # is ground truth\n",
    "            continue  # do not update\n",
    "        \n",
    "        neighbors = [node.GetNbrNId(i) for i in range(node.GetDeg())]\n",
    "        neighbors_labels = [labels[n] for n in neighbors]\n",
    "        labels[node_id] = np.mean(neighbors_labels)"
   ]
  },
  {
   "cell_type": "code",
   "execution_count": 7,
   "metadata": {},
   "outputs": [
    {
     "data": {
      "text/plain": [
       "[0.857146612937504,\n",
       " 0.7142884876278369,\n",
       " 1,\n",
       " 0.2857159708669467,\n",
       " 1,\n",
       " 0.6000000000000014,\n",
       " 0.14285798543347336,\n",
       " 0,\n",
       " 0.40000000000000036,\n",
       " 0]"
      ]
     },
     "execution_count": 7,
     "metadata": {},
     "output_type": "execute_result"
    }
   ],
   "source": [
    "labels[1:]"
   ]
  },
  {
   "cell_type": "markdown",
   "metadata": {},
   "source": [
    "Node 1, 2, 3, 5, 6 will be positive,  \n",
    "Node 4, 7, 8, 9, 10 will be negative.  "
   ]
  },
  {
   "cell_type": "markdown",
   "metadata": {},
   "source": [
    "## 1.2 Belief Propagation"
   ]
  },
  {
   "cell_type": "markdown",
   "metadata": {},
   "source": [
    "(i)  \n",
    "$$\n",
    "\\begin{aligned}\n",
    "m_{32}(x_2) &= \\sum_{x_3} \\phi(x_3) \\psi_{32}(x_3, x_2) \\\\\n",
    "m_{42}(x_2) &= \\sum_{x_4} \\phi(x_4) \\psi_{42}(x_4, x_2) \\\\\n",
    "m_{21}(x_1) &= \\sum_{x_2} \\phi(x_2) \\psi_{21}(x_2, x_1) m_{32}(x_2) m_{42}(x_2) \\\\\n",
    "&= \\sum_{x_2} \\phi(x_2) \\psi_{21}(x_2, x_1) \\sum_{x_3} \\phi(x_3) \\psi_{32}(x_3, x_2) \\sum_{x_4} \\phi(x_4) \\psi_{42}(x_4, x_2) \\\\\n",
    "b_1(x_1) &= \\frac{1}{Z} \\phi_1(x_1) m_{21}(x_1) \\\\\n",
    "&= \\frac{1}{Z} \\phi_1(x_1)\\sum_{x_2} \\phi(x_2) \\psi_{21}(x_2, x_1) \\sum_{x_3} \\phi(x_3) \\psi_{32}(x_3, x_2) \\sum_{x_4} \\phi(x_4) \\psi_{42}(x_4, x_2)\n",
    "\\end{aligned}\n",
    "$$"
   ]
  },
  {
   "cell_type": "markdown",
   "metadata": {},
   "source": [
    "(ii)\n",
    "$$\n",
    "\\begin{aligned}\n",
    "p(x_1 | y_1, y_2, y_3, y_4) &= \\sum_{x_2}\\sum_{x_3}\\sum_{x_4}p(x_1, x_2, x_3, x_4 | y_1, y_2, y_3, y_4) \\\\\n",
    "&= \\sum_{x_2}\\sum_{x_3}\\sum_{x_4} \\frac{1}{Z} \\phi(x_1)\\phi(x_2)\\phi(x_3)\\phi(x_4)\n",
    "\\psi_{21}(x_2, x_1)\\psi_{32}(x_3, x_2)\\psi_{42}(x_4, x_2) \\\\\n",
    "&= \\frac{1}{Z} \\phi(x_1) \\sum_{x_2}\\sum_{x_3}\\sum_{x_4}\\phi(x_2)\\phi(x_3)\\phi(x_4)\n",
    "\\psi_{21}(x_2, x_1)\\psi_{32}(x_3, x_2)\\psi_{42}(x_4, x_2) \\\\\n",
    "&= \\frac{1}{Z} \\phi(x_1) \\sum_{x_2} \\phi(x_2) \\psi_{21}(x_2, x_1) \\sum_{x_3}\\sum_{x_4}\\phi(x_3)\\phi(x_4)\n",
    "\\psi_{32}(x_3, x_2)\\psi_{42}(x_4, x_2) \\\\\n",
    "&= \\frac{1}{Z} \\phi(x_1) \\sum_{x_2} \\phi(x_2) \\psi_{21}(x_2, x_1) \\sum_{x_3}\\phi(x_3)\\psi_{32}(x_3, x_2)\n",
    "\\sum_{x_4}\\phi(x_4)\n",
    "\\psi_{42}(x_4, x_2) \\\\\n",
    "\\end{aligned}\n",
    "$$"
   ]
  },
  {
   "cell_type": "markdown",
   "metadata": {},
   "source": [
    "(iii)  \n",
    "Ground truth is $y_2 = 0$ and $y_4 = 1$.  \n",
    "As both $\\phi_2$ and $\\phi_4$ are strong, we should have $x_2 \\approx 0$ and $x_4 \\approx 1$. (Here '$\\approx$' means 'having higher probability to be equal to')  \n",
    "Compare to $\\psi_{12}$ and $\\psi_{34}$, $\\psi_{23}$ and $\\psi_{35}$ are more strongly dependent. So $x_3 \\approx 1$ and $x_5 \\approx 0$.  \n",
    "Consider the weakest $\\psi_{12}$ and $\\psi_{34}$, they show slight preference to have same label on the both side. So we have $x_1 \\approx 1$, but the probabilities to be positive will be close to 0.5. "
   ]
  },
  {
   "cell_type": "code",
   "execution_count": 8,
   "metadata": {},
   "outputs": [],
   "source": [
    "# Ground Truth: array([P(y = 0), P(y = 1)])\n",
    "y_2 = np.array([1, 0])\n",
    "y_4 = np.array([0, 1])\n",
    "psi_12 = np.array([[1, 0.9], [0.9, 1]])\n",
    "psi_34 = np.array([[1, 0.9], [0.9, 1]])\n",
    "psi_23 = np.array([[0.1, 1], [1, 0.1]])\n",
    "psi_35 = np.array([[0.1, 1], [1, 0.1]])\n",
    "phi_2 = np.array([[1, 0.1], [0.1, 1]])\n",
    "phi_4 = np.array([[1, 0.1], [0.1, 1]])"
   ]
  },
  {
   "cell_type": "code",
   "execution_count": 9,
   "metadata": {},
   "outputs": [],
   "source": [
    "# Message Passing: right to left\n",
    "m_y4_x4 = (y_4.reshape((1, -1)) * phi_4).sum(axis=1)\n",
    "m_x4_x3 = (m_y4_x4.reshape((1, -1)) * psi_34).sum(axis=1)\n",
    "m_x5_x3 = psi_35.sum(axis=1)\n",
    "m_x3_x2 = ((m_x4_x3 * m_x5_x3).reshape((1, -1)) * psi_23).sum(axis=1)\n",
    "m_y2_x2 = (y_2.reshape((1, -1)) * phi_2).sum(axis=1)\n",
    "m_x2_x1 = ((m_x3_x2 * m_y2_x2).reshape((1, -1)) * psi_12).sum(axis=1)\n",
    "\n",
    "# Message Passing: left to right\n",
    "m_x1_x2 = psi_12.sum(axis=0)\n",
    "m_x2_x3 = ((m_x1_x2 * m_y2_x2).reshape((-1, 1)) * psi_23).sum(axis=0)\n",
    "m_x3_x4 = ((m_x2_x3 * m_x5_x3).reshape((-1, 1)) * psi_34).sum(axis=0)\n",
    "m_x3_x5 = ((m_x2_x3 * m_x4_x3).reshape((-1, 1)) * psi_35).sum(axis=0)"
   ]
  },
  {
   "cell_type": "markdown",
   "metadata": {},
   "source": [
    "Note that we compute only $m_{y_2x_2}$ and $m_{y_4x_4}$, not $m_{x_2y_2}$ and $m_{x_4y_4}$, because $y_2$ and $y_4$ are ground truth. Any message passing to them will not change their distribution. "
   ]
  },
  {
   "cell_type": "code",
   "execution_count": 10,
   "metadata": {},
   "outputs": [],
   "source": [
    "# Belief\n",
    "b_1 = m_x2_x1\n",
    "b_1 = b_1 / b_1.sum()\n",
    "b_2 = m_x1_x2 * m_x3_x2 * m_y2_x2\n",
    "b_2 = b_2 / b_2.sum()\n",
    "b_3 = m_x2_x3 * m_x4_x3 * m_x5_x3\n",
    "b_3 = b_3 / b_3.sum()\n",
    "b_4 = m_x3_x4 * m_y4_x4\n",
    "b_4 = b_4 / b_4.sum()\n",
    "b_5 = m_x3_x5\n",
    "b_5 = b_5 / b_5.sum()"
   ]
  },
  {
   "cell_type": "code",
   "execution_count": 11,
   "metadata": {},
   "outputs": [
    {
     "name": "stdout",
     "output_type": "stream",
     "text": [
      "       p(x=0)     p(x=1)\n",
      "b_1: [0.52182902 0.47817098]\n",
      "b_2: [0.91475133 0.08524867]\n",
      "b_3: [0.15373972 0.84626028]\n",
      "b_4: [0.08524867 0.91475133]\n",
      "b_5: [0.78330387 0.21669613]\n"
     ]
    }
   ],
   "source": [
    "print('       p(x=0)     p(x=1)')\n",
    "print('b_1: %s\\nb_2: %s\\nb_3: %s\\nb_4: %s\\nb_5: %s' % (b_1, b_2, b_3, b_4, b_5))"
   ]
  },
  {
   "cell_type": "markdown",
   "metadata": {},
   "source": [
    "The prediction is similar to our expectation. "
   ]
  },
  {
   "cell_type": "code",
   "execution_count": null,
   "metadata": {},
   "outputs": [],
   "source": []
  }
 ],
 "metadata": {
  "kernelspec": {
   "display_name": "snap",
   "language": "python",
   "name": "snap"
  },
  "language_info": {
   "codemirror_mode": {
    "name": "ipython",
    "version": 3
   },
   "file_extension": ".py",
   "mimetype": "text/x-python",
   "name": "python",
   "nbconvert_exporter": "python",
   "pygments_lexer": "ipython3",
   "version": "3.7.9"
  }
 },
 "nbformat": 4,
 "nbformat_minor": 4
}
