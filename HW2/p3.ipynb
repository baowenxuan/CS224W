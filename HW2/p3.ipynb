{
 "cells": [
  {
   "cell_type": "markdown",
   "metadata": {},
   "source": [
    "# 3. "
   ]
  },
  {
   "cell_type": "code",
   "execution_count": 7,
   "metadata": {},
   "outputs": [],
   "source": [
    "import numpy as np"
   ]
  },
  {
   "cell_type": "markdown",
   "metadata": {},
   "source": [
    "## 3.1"
   ]
  },
  {
   "cell_type": "markdown",
   "metadata": {},
   "source": [
    "(i) Three Layers"
   ]
  },
  {
   "cell_type": "code",
   "execution_count": 8,
   "metadata": {},
   "outputs": [],
   "source": [
    "Edges1 = [(0, 1), (1, 2), (2, 3), (3, 4), (4, 5), (5, 6), (6, 1)]\n",
    "Edges2 = [(0, 1), (1, 2), (2, 3), (3, 4), (4, 5), (6, 1)]"
   ]
  },
  {
   "cell_type": "code",
   "execution_count": 12,
   "metadata": {},
   "outputs": [],
   "source": [
    "X_stack1 = []\n",
    "X_stack1.append(np.eye(7))\n",
    "for i in range(5):\n",
    "    X_stack1.append(np.copy(X_stack1[-1]))\n",
    "    for src, dst in Edges1:\n",
    "        X_stack1[-1][src] += X_stack1[-2][dst]\n",
    "        X_stack1[-1][dst] += X_stack1[-2][src]"
   ]
  },
  {
   "cell_type": "code",
   "execution_count": 13,
   "metadata": {},
   "outputs": [],
   "source": [
    "X_stack2 = []\n",
    "X_stack2.append(np.eye(7))\n",
    "for i in range(5):\n",
    "    X_stack2.append(np.copy(X_stack2[-1]))\n",
    "    for src, dst in Edges2:\n",
    "        X_stack2[-1][src] += X_stack2[-2][dst]\n",
    "        X_stack2[-1][dst] += X_stack2[-2][src]"
   ]
  },
  {
   "cell_type": "code",
   "execution_count": 21,
   "metadata": {},
   "outputs": [
    {
     "name": "stdout",
     "output_type": "stream",
     "text": [
      "0 True\n",
      "1 True\n",
      "2 True\n",
      "3 False\n",
      "4 False\n",
      "5 False\n"
     ]
    }
   ],
   "source": [
    "for i in range(6):\n",
    "    print(i, all(X_stack1[i][0] == X_stack2[i][0]))"
   ]
  },
  {
   "cell_type": "markdown",
   "metadata": {},
   "source": [
    "(ii)  \n",
    "Suppose that there is a GNN that could perfectly perform this classification task, and a cyclic graph of length 10, with node 0, 1, ..., 9. The GNN should classify all node to be positive.  \n",
    "Then we delete the edge between 4 and 5. The computation graph of node 0 has not change. So it should still be classified positive. But now it is not in the cycle. So this is not a perfect GNN. "
   ]
  },
  {
   "cell_type": "markdown",
   "metadata": {},
   "source": [
    "## 3.2\n",
    "(i) $D^{-1} A$  \n",
    "(ii) $\\frac{1}{2} I + \\frac{1}{2}D^{-1} A$"
   ]
  },
  {
   "cell_type": "markdown",
   "metadata": {},
   "source": [
    "## 3.3\n",
    "It is a property of stationary distribution in Stochastic Process: \n",
    "Graph is connected -> Markov chain is irreducible  \n",
    "Graph is not bipartite -> Markov chain is aperiodic\n",
    "And of course, the MC is homogeneous and finite. So it has a stationary distribution (measure). \n",
    "Which means that the GNN will connverge to the stationary measure. "
   ]
  },
  {
   "cell_type": "markdown",
   "metadata": {},
   "source": [
    "## 3.4\n",
    "(i)\n",
    "$$\n",
    "h_i^{(l+1)} = \\begin{cases}\n",
    "0, & h_j^{(l)} = 1, \\exists j \\in \\mathcal N_i \\\\\n",
    "1, & h_j^{(l)} = 0, \\forall j \\in \\mathcal N_i\n",
    "\\end{cases}\n",
    "$$"
   ]
  },
  {
   "cell_type": "markdown",
   "metadata": {},
   "source": [
    "(ii)  \n",
    "Message function: \n",
    "$$\n",
    "M(h_i^{(l)}, h_j^{(l)}) = h_i^{(l)}\n",
    "$$\n",
    "Aggregation function:\n",
    "$$\n",
    "h_i^{(l+1)} = \\max_{j \\in \\mathcal N_i} h_j^{(l)}\n",
    "$$"
   ]
  },
  {
   "cell_type": "code",
   "execution_count": null,
   "metadata": {},
   "outputs": [],
   "source": []
  }
 ],
 "metadata": {
  "kernelspec": {
   "display_name": "Python 3",
   "language": "python",
   "name": "python3"
  },
  "language_info": {
   "codemirror_mode": {
    "name": "ipython",
    "version": 3
   },
   "file_extension": ".py",
   "mimetype": "text/x-python",
   "name": "python",
   "nbconvert_exporter": "python",
   "pygments_lexer": "ipython3",
   "version": "3.8.3"
  }
 },
 "nbformat": 4,
 "nbformat_minor": 4
}
